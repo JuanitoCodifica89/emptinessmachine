{
  "cells": [
    {
      "cell_type": "markdown",
      "metadata": {
        "id": "view-in-github",
        "colab_type": "text"
      },
      "source": [
        "<a href=\"https://colab.research.google.com/github/JuanitoCodifica89/emptinessmachine/blob/main/FLACSO_MACRO2_M%C3%B3dulo_01.ipynb\" target=\"_parent\"><img src=\"https://colab.research.google.com/assets/colab-badge.svg\" alt=\"Open In Colab\"/></a>"
      ]
    },
    {
      "cell_type": "markdown",
      "id": "47e6c302-7c51-46dc-be14-42110c215aa9",
      "metadata": {
        "id": "47e6c302-7c51-46dc-be14-42110c215aa9"
      },
      "source": [
        "# 1. Introducción y comparación de enfoques"
      ]
    },
    {
      "cell_type": "markdown",
      "id": "85e3faa7-5226-4c5c-8461-e8621cedf249",
      "metadata": {
        "id": "85e3faa7-5226-4c5c-8461-e8621cedf249"
      },
      "source": [
        "## 1.1. Introducción"
      ]
    },
    {
      "cell_type": "markdown",
      "id": "80af30fe-2d27-4beb-9cb2-31c510e9a683",
      "metadata": {
        "id": "80af30fe-2d27-4beb-9cb2-31c510e9a683"
      },
      "source": [
        "Este curso examina diversas problemáticas macroeconómicas desde enfoques alternativos a las corrientes dominantes, con especial atención a su relevancia en el contexto de los países en desarrollo.\n",
        "\n",
        "Para ello, se analizarán distintos modelos económicos formales usando herramientas matemáticas y computacionales.\n",
        "\n",
        "El curso emplea el lenguaje de programación Python, no solo como medio para implementar y explorar modelos, sino también para facilitar la interacción con plataformas de Inteligencia Artificial (como ChatGPT y DeepSeek) que pueden interpretar y generar código en dicho lenguaje."
      ]
    },
    {
      "cell_type": "markdown",
      "id": "5901e8e3-56e5-4e13-885f-5dd6513399c1",
      "metadata": {
        "id": "5901e8e3-56e5-4e13-885f-5dd6513399c1"
      },
      "source": [
        "### 1.1.2. Bibliografía referencial"
      ]
    },
    {
      "cell_type": "markdown",
      "id": "3c8917c9-5ab9-4d1f-b6f2-66e8b219ba87",
      "metadata": {
        "id": "3c8917c9-5ab9-4d1f-b6f2-66e8b219ba87"
      },
      "source": [
        "-\tBlecker, R. y Setterfield, M. (2019). Heterodox Macroeconomics. Edward Elgar (https://lc.cx/usb91i).\n",
        "-\tSkott, P. (2023). Structuralist and Behavioral Macroeconomics. Cambridge University Press (https://lc.cx/q-t5ha).\n",
        "-\tHein, E. (2023). Macroeconomics after Kalecki and Keynes. Edward Elgar (https://lc.cx/QNiIAs).\n",
        "-\tLavoie, M. (2022). Post-Keynesian Economics. Edward Elgar (https://lc.cx/U_Nq-w).\n",
        "-\tDutt, A.K. (1990). Growth, distribution, and uneven development. Cambridge University Press (https://lc.cx/rkwvAB).\n",
        "-\tCajas Guijarro, J. (2025a). “A Classical Marxian Two-Sector Endogenous Cycle Model”. Metroeconomica, 76(3): 384–404 (https://lc.cx/JNKdZf)\n",
        "-\tCajas Guijarro, J. (2024a). “Deuda, poder y ciclos: Un modelo Norte-Sur de Deuda y Distribución (NSDD)”. Cuadernos de Economía, 43(92): 639–673 (https://bit.ly/3UvA8y6).\n",
        "-\tGoodwin, R. (1967). “A growth cycle”. En C.H. Feinstein (comp.), Capitalism and Economic Growth, Cambridge University Press (https://bit.ly/3f4kraA) (http://bit.ly/3Y4yT8k).\n",
        "-\tFlaschel, P. (2009). Macrodynamics of Capitalism. Springer (https://lc.cx/J7FOJI)\n",
        "-\tCajas Guijarro, J. (2024b). “An Extended Goodwin Model with Endogenous Technical Change and Labor Supply”. Structural Change and Economic Dynamics, 70: 699-710 (https://bit.ly/3XU3RDm)\n",
        "-\tCajas Guijarro, J. (2025b). “Double-Hopf bifurcation in an extended Goodwin model with Mechanization, Independent Investment, and Disequilibrium: Toward a Marxian-Keynesian Synthesis.” MPRA Paper No. 1252586 (https://mpra.ub.uni-muenchen.de/125329/3/MPRA_paper_125329.pdf).  \n",
        "-\tFlaschel, P. (2025). “Goodwin’s MKS system: a baseline macro model”. Cambridge Journal of Economics, 39(6): 1591–1605 (https://acortar.link/DLbtH7)."
      ]
    },
    {
      "cell_type": "markdown",
      "id": "5fd5d8bb-1e93-4fc5-8550-b8c97ea3e569",
      "metadata": {
        "id": "5fd5d8bb-1e93-4fc5-8550-b8c97ea3e569"
      },
      "source": [
        "## 1.2. Algunas definiciones iniciales"
      ]
    },
    {
      "cell_type": "markdown",
      "id": "59b0f66a-f0bb-4c93-a8a3-2828aab7016a",
      "metadata": {
        "id": "59b0f66a-f0bb-4c93-a8a3-2828aab7016a"
      },
      "source": [
        "### 1.2.1. Preliminares"
      ]
    },
    {
      "cell_type": "code",
      "execution_count": null,
      "id": "59552138-ca9e-47ca-8ab1-30870be5513e",
      "metadata": {
        "id": "59552138-ca9e-47ca-8ab1-30870be5513e"
      },
      "outputs": [],
      "source": [
        "import sympy as sp #Para cálculos matemáticos\n",
        "import numpy as np #Para cálculos y manejos de estructuras de datos\n",
        "import matplotlib.pyplot as plt #Para gráficos estándar\n",
        "from sympy.physics.mechanics import dynamicsymbols, mechanics_printing #Escribe derivadas temporales con puntos\n",
        "import funciones_axiliares_macro as fam #Carga archivo con funciones auxiliares para macro\n",
        "import plotly.graph_objects as go #Para gráfico en 3d\n",
        "%matplotlib widget\n",
        "import ipywidgets as widgets\n",
        "\n",
        "sp.init_printing()  # Imprime resultados en Latex\n",
        "mechanics_printing() # Imprime las derivadas temporales con puntos"
      ]
    },
    {
      "cell_type": "code",
      "execution_count": null,
      "id": "b142ba8d-8179-439d-a00f-49d2e633d007",
      "metadata": {
        "id": "b142ba8d-8179-439d-a00f-49d2e633d007"
      },
      "outputs": [],
      "source": [
        "#Definimos el tiempo como variable independiente\n",
        "t = sp.Symbol('t')"
      ]
    },
    {
      "cell_type": "code",
      "execution_count": null,
      "id": "a4e7da88-8e26-43f5-8a78-cee11db2e5f7",
      "metadata": {
        "id": "a4e7da88-8e26-43f5-8a78-cee11db2e5f7"
      },
      "outputs": [],
      "source": [
        "#Definimos términos de prueba\n",
        "x1 = sp.Function(r'x_1')(t) #x1 depende del tiempo\n",
        "x2 = sp.Function(r'x_2')(t)\n",
        "x3 = sp.Function(r'x_3')(t)\n",
        "x1hat = sp.Function(r'\\hat{x_1}')(t) #x1hat depende del tiempo (va a representar tasa de variación)\n",
        "x2hat = sp.Function(r'\\hat{x_2}')(t)\n",
        "x3hat = sp.Function(r'\\hat{x_3}')(t)"
      ]
    },
    {
      "cell_type": "code",
      "execution_count": null,
      "id": "69587161-2c68-41fe-a905-3a7112fca632",
      "metadata": {
        "id": "69587161-2c68-41fe-a905-3a7112fca632"
      },
      "outputs": [],
      "source": [
        "#Derivada temporal de x1\n",
        "sp.diff(x1,t)"
      ]
    },
    {
      "cell_type": "code",
      "execution_count": null,
      "id": "a3783d88-686e-4847-8cc4-d84f8e341173",
      "metadata": {
        "id": "a3783d88-686e-4847-8cc4-d84f8e341173"
      },
      "outputs": [],
      "source": [
        "#Tasa de variación de x1 (en puntos) (con sp)\n",
        "sp.diff(sp.log(x1),t)"
      ]
    },
    {
      "cell_type": "code",
      "execution_count": null,
      "id": "cf9d1cbe-dac7-4ae1-8913-d7fe369c6575",
      "metadata": {
        "id": "cf9d1cbe-dac7-4ae1-8913-d7fe369c6575"
      },
      "outputs": [],
      "source": [
        "#Tasa de variación de x1 (en punto) (con fam)\n",
        "fam.diff_ln_eq(x1,t)"
      ]
    },
    {
      "cell_type": "code",
      "execution_count": null,
      "id": "958c5681-0cd8-41ec-8000-d7a4fd93c335",
      "metadata": {
        "id": "958c5681-0cd8-41ec-8000-d7a4fd93c335"
      },
      "outputs": [],
      "source": [
        "#Tasa de variación de x1 (en gorro)\n",
        "fam.dot_to_hat(\n",
        "    fam.diff_ln_eq(x1,t),\n",
        "    [x1],t\n",
        ")"
      ]
    },
    {
      "cell_type": "code",
      "execution_count": null,
      "id": "1ce5df1b-4ec7-442a-9e85-99b85d48126a",
      "metadata": {
        "id": "1ce5df1b-4ec7-442a-9e85-99b85d48126a"
      },
      "outputs": [],
      "source": [
        "#Definimos un ejemplo de ratio\n",
        "ratio=sp.Eq(x3,x1/x2)\n",
        "ratio"
      ]
    },
    {
      "cell_type": "code",
      "execution_count": null,
      "id": "8f2b74b1-8025-45d9-a3d8-0fd6d98382f9",
      "metadata": {
        "id": "8f2b74b1-8025-45d9-a3d8-0fd6d98382f9"
      },
      "outputs": [],
      "source": [
        "#Tasa de variación de la ratio (puntos)\n",
        "fam.diff_ln_eq(ratio,t)"
      ]
    },
    {
      "cell_type": "code",
      "execution_count": null,
      "id": "0d54fe51-c255-4a8b-a708-c41c2d574d0a",
      "metadata": {
        "id": "0d54fe51-c255-4a8b-a708-c41c2d574d0a"
      },
      "outputs": [],
      "source": [
        "#Tasa de variación de la ratio (en gorros)\n",
        "tv_ratio=fam.dot_to_hat(\n",
        "    fam.diff_ln_eq(ratio,t),\n",
        "    [x1,x2,x3],t\n",
        ")\n",
        "tv_ratio"
      ]
    },
    {
      "cell_type": "code",
      "execution_count": null,
      "id": "a30d58d7-41f1-4368-86a7-79f68dbdaca8",
      "metadata": {
        "id": "a30d58d7-41f1-4368-86a7-79f68dbdaca8"
      },
      "outputs": [],
      "source": [
        "#Asumimos que la ratio es constante\n",
        "balance=sp.Eq(x3hat,0)\n",
        "balance"
      ]
    },
    {
      "cell_type": "code",
      "execution_count": null,
      "id": "dfb0094c-e046-4bb3-a569-c4755139b144",
      "metadata": {
        "id": "dfb0094c-e046-4bb3-a569-c4755139b144"
      },
      "outputs": [],
      "source": [
        "#Aplicamos balance a tv_ratio\n",
        "fam.solve_as_equalities(\n",
        "    [tv_ratio,balance],\n",
        "    [x1hat,x3hat]\n",
        ")[0][0]"
      ]
    },
    {
      "cell_type": "markdown",
      "id": "fc2f5a25-9b8a-4ab6-917a-ede7169aeaa5",
      "metadata": {
        "id": "fc2f5a25-9b8a-4ab6-917a-ede7169aeaa5"
      },
      "source": [
        "### 1.2.2. Tasa de empleo"
      ]
    },
    {
      "cell_type": "code",
      "execution_count": null,
      "id": "83d533c9-b6db-4d72-9bfe-e33b1e1639e5",
      "metadata": {
        "id": "83d533c9-b6db-4d72-9bfe-e33b1e1639e5"
      },
      "outputs": [],
      "source": [
        "#Definimos términos asociados a la tasa de empleo\n",
        "e = sp.Function('e')(t) #Tasa de empleo\n",
        "L = sp.Function('L')(t) #Trabajo\n",
        "N = sp.Function('N')(t) #Oferta laboral\n",
        "ehat = sp.Function(r'\\hat{e}')(t) #Tasa de crecimiento de e\n",
        "Lhat = sp.Function(r'\\hat{L}')(t) #Tasa de crecimiento de L\n",
        "Nhat = sp.Function(r'\\hat{N}')(t) #Tasa de crecimiento de N"
      ]
    },
    {
      "cell_type": "code",
      "execution_count": null,
      "id": "415db35f-daab-4792-a826-f6774208c439",
      "metadata": {
        "id": "415db35f-daab-4792-a826-f6774208c439"
      },
      "outputs": [],
      "source": [
        "#Definimos la ecuación de la tasa de empleo\n",
        "eq1=sp.Eq(e,L/N)\n",
        "eq1"
      ]
    },
    {
      "cell_type": "code",
      "execution_count": null,
      "id": "c65a8a1b-0a7c-4765-b8cb-b1c6817b22d5",
      "metadata": {
        "id": "c65a8a1b-0a7c-4765-b8cb-b1c6817b22d5"
      },
      "outputs": [],
      "source": [
        "#Aplicamos log-diferenciación en ambos lados de eq1\n",
        "eq2a=fam.diff_ln_eq(eq1,t)\n",
        "eq2a"
      ]
    },
    {
      "cell_type": "code",
      "execution_count": null,
      "id": "1e74ec08-88ba-4d73-97e0-7b97e94c882f",
      "metadata": {
        "id": "1e74ec08-88ba-4d73-97e0-7b97e94c882f"
      },
      "outputs": [],
      "source": [
        "#Pasamos la eq2a de puntos a gorros\n",
        "eq2=fam.dot_to_hat(\n",
        "    eq2a,\n",
        "    [e,N,L],t\n",
        ")\n",
        "eq2"
      ]
    },
    {
      "cell_type": "code",
      "execution_count": null,
      "id": "048edb46-2a2a-4d93-98e1-99e5d9860455",
      "metadata": {
        "id": "048edb46-2a2a-4d93-98e1-99e5d9860455"
      },
      "outputs": [],
      "source": [
        "#Definimos situación con tasa de empleo constante\n",
        "eq3=sp.Eq(ehat,0)\n",
        "eq3"
      ]
    },
    {
      "cell_type": "code",
      "execution_count": null,
      "id": "a91fb315-cb6a-4090-8c1a-365f57dc27df",
      "metadata": {
        "id": "a91fb315-cb6a-4090-8c1a-365f57dc27df"
      },
      "outputs": [],
      "source": [
        "#Resolvemos las ecuaciones eq2 y eq3 para la tasa de crecimiento de L\n",
        "eq4=fam.solve_as_equalities([eq2,eq3],\n",
        "                            [Lhat,ehat]\n",
        "                           )[0][0]\n",
        "eq4"
      ]
    },
    {
      "cell_type": "markdown",
      "id": "01ae0bcd-a7f2-4bd8-9264-e4412989d371",
      "metadata": {
        "id": "01ae0bcd-a7f2-4bd8-9264-e4412989d371"
      },
      "source": [
        "### 1.2.3. Tasa de uso de capacidad instalada"
      ]
    },
    {
      "cell_type": "code",
      "execution_count": null,
      "id": "c5b0a8c2-54c5-497f-a9c4-af3f4f1038f1",
      "metadata": {
        "id": "c5b0a8c2-54c5-497f-a9c4-af3f4f1038f1"
      },
      "outputs": [],
      "source": [
        "#Definimos términos asociados al uso de capacidad instalada\n",
        "u = sp.Function('u')(t) #Tasa de uso de capacidad instalada\n",
        "Y = sp.Function('Y')(t) #Producción efectiva\n",
        "YK = sp.Function(r'Y_K')(t)  #Producto potencial de capacidad plena\n",
        "uhat = sp.Function(r'\\hat{u}')(t) #Tasa de variación de u\n",
        "Yhat = sp.Function(r'\\hat{Y}')(t) #Tasa de variación de Y\n",
        "YKhat = sp.Function(r'\\hat{Y_K}')(t)  #Tasa de variación de YK"
      ]
    },
    {
      "cell_type": "code",
      "execution_count": null,
      "id": "c2387ef8-0255-4d5b-adc5-9b41ea5ac7c1",
      "metadata": {
        "id": "c2387ef8-0255-4d5b-adc5-9b41ea5ac7c1"
      },
      "outputs": [],
      "source": [
        "#Definimos ecuación de uso de capacidad instalada\n",
        "eq5 = sp.Eq(u,Y/YK)\n",
        "eq5"
      ]
    },
    {
      "cell_type": "code",
      "execution_count": null,
      "id": "571ada2c-737f-4831-9990-d0c107edcb0d",
      "metadata": {
        "id": "571ada2c-737f-4831-9990-d0c107edcb0d"
      },
      "outputs": [],
      "source": [
        "#Aplicamos log-diferenciación en ambos lados de eq5\n",
        "eq6a=fam.diff_ln_eq(eq5,t)\n",
        "eq6a"
      ]
    },
    {
      "cell_type": "code",
      "execution_count": null,
      "id": "e0fdadc9-7f0b-4e5c-bdc9-8efed7234002",
      "metadata": {
        "id": "e0fdadc9-7f0b-4e5c-bdc9-8efed7234002"
      },
      "outputs": [],
      "source": [
        "#Pasamos ambos lados de eq6a de puntos a gorros\n",
        "eq6=fam.dot_to_hat(\n",
        "    eq6a,\n",
        "    [u, Y, YK],t\n",
        ")\n",
        "eq6"
      ]
    },
    {
      "cell_type": "code",
      "execution_count": null,
      "id": "94ac21fb-c146-481d-ac8a-3e474e5a3d00",
      "metadata": {
        "id": "94ac21fb-c146-481d-ac8a-3e474e5a3d00"
      },
      "outputs": [],
      "source": [
        "#Definimos situación con uso de capacidad constante\n",
        "eq7 = sp.Eq(uhat,0)\n",
        "eq7"
      ]
    },
    {
      "cell_type": "code",
      "execution_count": null,
      "id": "9afb3f23-9a00-4b84-9cf6-ae9231fedd4f",
      "metadata": {
        "id": "9afb3f23-9a00-4b84-9cf6-ae9231fedd4f"
      },
      "outputs": [],
      "source": [
        "#Resolvemos las ecuaciones eq6 y eq7 para la tasa de crecimiento de Y\n",
        "eq8=fam.solve_as_equalities(\n",
        "    [eq6,eq7],\n",
        "    [Yhat,uhat]\n",
        ")[0][0]\n",
        "eq8"
      ]
    },
    {
      "cell_type": "markdown",
      "id": "265fa266-c361-41cc-97b6-df64f6023efd",
      "metadata": {
        "id": "265fa266-c361-41cc-97b6-df64f6023efd"
      },
      "source": [
        "### 1.2.4. Funciones de producción"
      ]
    },
    {
      "cell_type": "code",
      "execution_count": null,
      "id": "9ed34b3e-8bd5-4656-b5a6-6b0f09183eed",
      "metadata": {
        "id": "9ed34b3e-8bd5-4656-b5a6-6b0f09183eed"
      },
      "outputs": [],
      "source": [
        "#Definimos al capital y su tasa de variación\n",
        "K = sp.Function('K')(t) #Nivel de capital\n",
        "Khat = sp.Function(r'\\hat{K}')(t) #Tasa de variación de K\n",
        "Kdot = sp.diff(K,t)"
      ]
    },
    {
      "cell_type": "code",
      "execution_count": null,
      "id": "5730c304-0bc0-4bdd-bccd-ff7db21b5f07",
      "metadata": {
        "id": "5730c304-0bc0-4bdd-bccd-ff7db21b5f07"
      },
      "outputs": [],
      "source": [
        "#Definimos función de producción en términos generales\n",
        "F = sp.Function('F')\n",
        "fprod = sp.Eq(Y,F(K,L))\n",
        "fprod"
      ]
    },
    {
      "cell_type": "code",
      "execution_count": null,
      "id": "4eec21e4-aee7-4808-a861-5ce125067600",
      "metadata": {
        "id": "4eec21e4-aee7-4808-a861-5ce125067600"
      },
      "outputs": [],
      "source": [
        "#Definimos parámetros\n",
        "alpha0, alpha1 = sp.symbols(r\"\\alpha_0 \\alpha_1\", positive=True, real=True) #Parámetros Cobb-Douglas\n",
        "a0 = sp.Function(r'a_0')(t) #Cantidad de trabajo requerida para obtener una unidad de producto en Leontief\n",
        "a1 = sp.Function(r'a_1')(t) #Cantidad de capital requerido para obtener una unidad de producto en Leontief\n",
        "a0hat = sp.Function(r'\\hat{a_0}')(t) #Tasa de variación de a0\n",
        "a1hat = sp.Function(r'\\hat{a_1}')(t) #Tasa de variación de a1"
      ]
    },
    {
      "cell_type": "code",
      "execution_count": null,
      "id": "777f53ce-6560-4e83-9e94-3387cafd192f",
      "metadata": {
        "id": "777f53ce-6560-4e83-9e94-3387cafd192f"
      },
      "outputs": [],
      "source": [
        "#Función de producción Cobb-Douglas\n",
        "fprodCD = fprod.subs(F(K,L),L**alpha0*K**alpha1)\n",
        "fprodCD"
      ]
    },
    {
      "cell_type": "code",
      "execution_count": null,
      "id": "5a296287-45cd-46ea-9b9c-559cf76f4871",
      "metadata": {
        "id": "5a296287-45cd-46ea-9b9c-559cf76f4871"
      },
      "outputs": [],
      "source": [
        "#Función de producción Leontief\n",
        "fprodL = fprod.subs(F(K,L),sp.Min(L/a0,K/a1))\n",
        "fprodL"
      ]
    },
    {
      "cell_type": "code",
      "execution_count": null,
      "id": "7da3a2cc-288f-4437-b09b-f666e4802a49",
      "metadata": {
        "id": "7da3a2cc-288f-4437-b09b-f666e4802a49"
      },
      "outputs": [],
      "source": [
        "#Gráfica función de producción Cobb-Douglas 3d\n",
        "fam.plot_prod_func_3d(eq=fprodCD,\n",
        "                      L_sym=L, K_sym=K, Y_sym=Y, params={alpha0:0.5,alpha1:0.5},\n",
        "                      width=1100, height=500,colorscale=\"Magma\")"
      ]
    },
    {
      "cell_type": "code",
      "execution_count": null,
      "id": "379989c2-a49f-43af-a05a-305fe84b23b2",
      "metadata": {
        "id": "379989c2-a49f-43af-a05a-305fe84b23b2"
      },
      "outputs": [],
      "source": [
        "#Gráfica función de producción Leontief 3d\n",
        "fam.plot_prod_func_3d(eq=fprodL,\n",
        "                      L_sym=L, K_sym=K, Y_sym=Y,params={a0:0.5,a1:0.5},\n",
        "                      width=1100, height=500,colorscale=\"Viridis\")"
      ]
    },
    {
      "cell_type": "code",
      "execution_count": null,
      "id": "b42d4cd8-d4f8-4ea6-b898-5333a235990d",
      "metadata": {
        "id": "b42d4cd8-d4f8-4ea6-b898-5333a235990d"
      },
      "outputs": [],
      "source": [
        "#Isocuanta de función de producción Cobb-Douglas\n",
        "fam.plot_isoquants_from_eq(eq=fprodCD,\n",
        "                           L_sym=L,K_sym=K,Y_sym=Y,\n",
        "                           Y_values=[1,2,3],\n",
        "                           params={alpha0:0.5, alpha1:0.5},\n",
        "                           L_range=(0.1,5),n=500,\n",
        "                           xlim=(0,5),ylim=(0,5)\n",
        "                          )"
      ]
    },
    {
      "cell_type": "code",
      "execution_count": null,
      "id": "8296241a-6554-4309-89c7-92df2dce77c8",
      "metadata": {
        "id": "8296241a-6554-4309-89c7-92df2dce77c8"
      },
      "outputs": [],
      "source": [
        "#Isocuanta de función de producción Leontief\n",
        "fam.plot_isoquants_from_eq(eq=fprodL,\n",
        "                           L_sym=L,K_sym=K,Y_sym=Y,\n",
        "                           Y_values=[1,2,3,4],\n",
        "                           params={a0:0.5, a1:0.5},\n",
        "                           L_range=(0.1,5),n=1000,\n",
        "                           xlim=(0,5),ylim=(0,5)\n",
        "                          )"
      ]
    },
    {
      "cell_type": "markdown",
      "id": "adc71f24-37e4-4ffc-97f8-dfe888ec6964",
      "metadata": {
        "id": "adc71f24-37e4-4ffc-97f8-dfe888ec6964"
      },
      "source": [
        "### 1.2.5. Restricciones sobre el crecimiento"
      ]
    },
    {
      "cell_type": "code",
      "execution_count": null,
      "id": "263fc7da-ec65-41e4-9ca8-4627fb8ad4f1",
      "metadata": {
        "id": "263fc7da-ec65-41e4-9ca8-4627fb8ad4f1"
      },
      "outputs": [],
      "source": [
        "#Definimos producto potencial de pleno empleo y su tasa de variación\n",
        "YN = sp.Function(r'Y_N')(t)\n",
        "YNhat = sp.Function(r'\\hat{Y_N}')(t)"
      ]
    },
    {
      "cell_type": "code",
      "execution_count": null,
      "id": "1c142c93-c9be-4b7b-8aa0-e003634eef50",
      "metadata": {
        "id": "1c142c93-c9be-4b7b-8aa0-e003634eef50"
      },
      "outputs": [],
      "source": [
        "#Definimos ecuaciones de productos potenciales\n",
        "eq9=sp.Eq(YN,N/a0) #Producto potencial de pleno empleo\n",
        "eq10=sp.Eq(YK,K/a1) #Producto potencial de capacidad plena\n",
        "eq9, eq10"
      ]
    },
    {
      "cell_type": "code",
      "execution_count": null,
      "id": "4b8d7406-b50c-4bd4-b44a-20f1c24d4b92",
      "metadata": {
        "id": "4b8d7406-b50c-4bd4-b44a-20f1c24d4b92"
      },
      "outputs": [],
      "source": [
        "#Definimos la productividad laboral y su tasa de variación\n",
        "Q = sp.Function('Q')(t)\n",
        "Qhat = sp.Function(r'\\hat{Q}')(t)"
      ]
    },
    {
      "cell_type": "code",
      "execution_count": null,
      "id": "ec431265-2b7d-4cd0-8bba-ef450b4c488f",
      "metadata": {
        "id": "ec431265-2b7d-4cd0-8bba-ef450b4c488f"
      },
      "outputs": [],
      "source": [
        "#Definimos ecuaciones de la productividad laboral\n",
        "eq11=sp.Eq(Q,Y/L)\n",
        "eq12=sp.Eq(Q,YN/N)\n",
        "eq11, eq12"
      ]
    },
    {
      "cell_type": "code",
      "execution_count": null,
      "id": "55faac1f-7cdf-4090-8e0d-abd343e759c3",
      "metadata": {
        "id": "55faac1f-7cdf-4090-8e0d-abd343e759c3"
      },
      "outputs": [],
      "source": [
        "#Renombramos tasa de crecimiento del producto potencial de pleno empleo\n",
        "yN = sp.Function(r'y_N')(t) #Tasa de crecimiento natural\n",
        "eq13 = sp.Eq(YNhat,yN)\n",
        "eq13"
      ]
    },
    {
      "cell_type": "code",
      "execution_count": null,
      "id": "64c0869a-6f2c-41f5-96bd-ef2cc4dc578e",
      "metadata": {
        "id": "64c0869a-6f2c-41f5-96bd-ef2cc4dc578e"
      },
      "outputs": [],
      "source": [
        "#Renombramos tasa de crecimiento de la oferta laboral\n",
        "n = sp.Function('n')(t)\n",
        "eq14 = sp.Eq(Nhat,n)\n",
        "eq14"
      ]
    },
    {
      "cell_type": "code",
      "execution_count": null,
      "id": "54eabc63-b3f8-4f22-9145-3996ef769ef0",
      "metadata": {
        "id": "54eabc63-b3f8-4f22-9145-3996ef769ef0"
      },
      "outputs": [],
      "source": [
        "#Renombramos tasa de crecimiento de la oferta laboral\n",
        "q = sp.Function('q')(t)\n",
        "eq15 = sp.Eq(Qhat,q)\n",
        "eq15"
      ]
    },
    {
      "cell_type": "code",
      "execution_count": null,
      "id": "dcc51f8a-1e6e-4cd9-8459-db5456157e0d",
      "metadata": {
        "id": "dcc51f8a-1e6e-4cd9-8459-db5456157e0d"
      },
      "outputs": [],
      "source": [
        "#Deducción de la tasa natural de crecimiento (yN)\n",
        "#Paso 1: log-diferenciamos eq12\n",
        "eq16a=fam.dot_to_hat(\n",
        "    fam.diff_ln_eq(eq12,t),\n",
        "    [Q,YN,N],t\n",
        ")\n",
        "eq16a"
      ]
    },
    {
      "cell_type": "code",
      "execution_count": null,
      "id": "6169ccb8-9a43-4ac1-bfd1-b19d97a12266",
      "metadata": {
        "id": "6169ccb8-9a43-4ac1-bfd1-b19d97a12266"
      },
      "outputs": [],
      "source": [
        "#Paso 2: Reescribimos nombres de eq16a\n",
        "eq16=fam.solve_as_equalities(\n",
        "    [eq16a,eq13,eq14,eq15],\n",
        "    [yN,YNhat,Nhat,Qhat]\n",
        ")[0][0]\n",
        "eq16"
      ]
    },
    {
      "cell_type": "code",
      "execution_count": null,
      "id": "67545f92-3d7c-42ec-bedf-cec0458ffb74",
      "metadata": {
        "id": "67545f92-3d7c-42ec-bedf-cec0458ffb74"
      },
      "outputs": [],
      "source": [
        "#Definiendo a la tasa de crecimiento efectiva\n",
        "y = sp.Function('y')(t) #Tasa de crecimiento efectiva\n",
        "eq17=sp.Eq(Yhat,y)\n",
        "eq17"
      ]
    },
    {
      "cell_type": "code",
      "execution_count": null,
      "id": "1b2e7d75-6e3c-454a-bc99-e5869731b187",
      "metadata": {
        "id": "1b2e7d75-6e3c-454a-bc99-e5869731b187"
      },
      "outputs": [],
      "source": [
        "#Deducción de la tasa de variación de la tasa de empleo\n",
        "#Paso 1: Combinamos tasa de empleo y productividad laboral\n",
        "eq18a=fam.solve_as_equalities(\n",
        "    [eq1,eq11],\n",
        "    [e,L]\n",
        ")[0][0]\n",
        "eq18a"
      ]
    },
    {
      "cell_type": "code",
      "execution_count": null,
      "id": "23db322b-84a1-4e4f-b66c-cd994b3a831c",
      "metadata": {
        "id": "23db322b-84a1-4e4f-b66c-cd994b3a831c"
      },
      "outputs": [],
      "source": [
        "#Paso2: Log-diferenciamos eq18a\n",
        "eq18b=fam.dot_to_hat(\n",
        "    fam.diff_ln_eq(eq18a,t),\n",
        "    [e,Y,Q,N],t)\n",
        "eq18b"
      ]
    },
    {
      "cell_type": "code",
      "execution_count": null,
      "id": "9579fd19-c8f3-44db-b021-fbb48d3c5e0d",
      "metadata": {
        "id": "9579fd19-c8f3-44db-b021-fbb48d3c5e0d"
      },
      "outputs": [],
      "source": [
        "#Paso 3: renombramos términos de eq18b\n",
        "eq18=fam.solve_as_equalities(\n",
        "    [eq18b,eq14,eq15,eq17],\n",
        "    [ehat,Nhat,Qhat,Yhat]\n",
        ")[0][0]\n",
        "eq18"
      ]
    },
    {
      "cell_type": "code",
      "execution_count": null,
      "id": "a811565e-1edb-440a-b4f7-01e9cec354e5",
      "metadata": {
        "id": "a811565e-1edb-440a-b4f7-01e9cec354e5"
      },
      "outputs": [],
      "source": [
        "#Planteando escenario hipotético donde la tasa de crecimiento efectiva coincide con la natural\n",
        "eq19=sp.Eq(y,yN)\n",
        "eq19"
      ]
    },
    {
      "cell_type": "code",
      "execution_count": null,
      "id": "de399ad3-4940-429d-9247-e487d1b42989",
      "metadata": {
        "id": "de399ad3-4940-429d-9247-e487d1b42989"
      },
      "outputs": [],
      "source": [
        "#Aplicando escenario hipotético a la tv de e\n",
        "fam.solve_as_equalities(\n",
        "    [eq16,eq18,eq19],\n",
        "    [ehat,y,yN]\n",
        ")[0][0]"
      ]
    },
    {
      "cell_type": "code",
      "execution_count": null,
      "id": "5d63ce24-6227-4e20-8ef9-4c5f11f49a2f",
      "metadata": {
        "id": "5d63ce24-6227-4e20-8ef9-4c5f11f49a2f"
      },
      "outputs": [],
      "source": [
        "#Renombrando a la tasa de crecimiento del producto potencial de capacidad plena\n",
        "yK = sp.Function(r'y_K')(t)\n",
        "eq20 = sp.Eq(YKhat,yK)\n",
        "eq20"
      ]
    },
    {
      "cell_type": "code",
      "execution_count": null,
      "id": "b06d81ef-a6ef-4d3c-be99-1c7c28685ecd",
      "metadata": {
        "id": "b06d81ef-a6ef-4d3c-be99-1c7c28685ecd"
      },
      "outputs": [],
      "source": [
        "#Renombrando a la tasa de crecimiento del capital (tasa de acumulación)\n",
        "g = sp.Function('g')(t)\n",
        "eq21 = sp.Eq(Khat,g)\n",
        "eq21"
      ]
    },
    {
      "cell_type": "code",
      "execution_count": null,
      "id": "57d9d596-7d82-4c23-873a-529135f47cb9",
      "metadata": {
        "id": "57d9d596-7d82-4c23-873a-529135f47cb9"
      },
      "outputs": [],
      "source": [
        "#Asumiendo no hay cambio técnico en el uso de capital (a1 se mantiene constante)\n",
        "eq22=sp.Eq(a1hat,0)\n",
        "eq22"
      ]
    },
    {
      "cell_type": "code",
      "execution_count": null,
      "id": "4ff2088c-3405-45ad-8a68-011c9bd2fa94",
      "metadata": {
        "id": "4ff2088c-3405-45ad-8a68-011c9bd2fa94"
      },
      "outputs": [],
      "source": [
        "#Deducción de la tasa yK\n",
        "#Paso 1: log-diferenciamos eq10\n",
        "eq23a=fam.dot_to_hat(\n",
        "    fam.diff_ln_eq(eq10,t),\n",
        "    [YK,a1,K],t\n",
        ")\n",
        "eq23a"
      ]
    },
    {
      "cell_type": "code",
      "execution_count": null,
      "id": "284fd388-a748-408f-a1b9-5ed96fafb2ca",
      "metadata": {
        "id": "284fd388-a748-408f-a1b9-5ed96fafb2ca"
      },
      "outputs": [],
      "source": [
        "#Paso 2: renombramos YKhat y Khat\n",
        "eq23b=fam.solve_as_equalities(\n",
        "    [eq23a,eq20,eq21],\n",
        "    [yK,YKhat,Khat]\n",
        ")[0][0]\n",
        "eq23b"
      ]
    },
    {
      "cell_type": "code",
      "execution_count": null,
      "id": "c426ac61-39cb-4b3c-8673-0509efd8c047",
      "metadata": {
        "id": "c426ac61-39cb-4b3c-8673-0509efd8c047"
      },
      "outputs": [],
      "source": [
        "#Paso 3: asumimos a1 constante\n",
        "eq23=fam.solve_as_equalities(\n",
        "    [eq23b,eq22],\n",
        "    [yK,a1hat]\n",
        ")[0][0]\n",
        "eq23"
      ]
    },
    {
      "cell_type": "code",
      "execution_count": null,
      "id": "2e57932f-ef7f-43a2-954a-6b0086398832",
      "metadata": {
        "id": "2e57932f-ef7f-43a2-954a-6b0086398832"
      },
      "outputs": [],
      "source": [
        "#Deducción de la tasa de variación de u\n",
        "#Paso 1: log-diferenciamos eq5\n",
        "eq24a = fam.dot_to_hat(\n",
        "    fam.diff_ln_eq(eq5,t),\n",
        "    [u,Y,YK],t)\n",
        "eq24a"
      ]
    },
    {
      "cell_type": "code",
      "execution_count": null,
      "id": "ab99d9d6-7334-44ea-831d-1eeca30cd9b1",
      "metadata": {
        "id": "ab99d9d6-7334-44ea-831d-1eeca30cd9b1"
      },
      "outputs": [],
      "source": [
        "#Paso 2: renombramos YKhat y Yhat\n",
        "eq24=fam.solve_as_equalities(\n",
        "    [eq24a,eq17,eq20],\n",
        "    [uhat,Yhat,YKhat]\n",
        ")[0][0]\n",
        "eq24"
      ]
    },
    {
      "cell_type": "code",
      "execution_count": null,
      "id": "08ed83b4-9469-45f0-8482-b02335f31b32",
      "metadata": {
        "id": "08ed83b4-9469-45f0-8482-b02335f31b32"
      },
      "outputs": [],
      "source": [
        "#Planteando escenario hipotético donde la tasa de crecimiento efectiva coincide con la tasa de acumulación\n",
        "eq25=sp.Eq(y,yK)\n",
        "eq25"
      ]
    },
    {
      "cell_type": "code",
      "execution_count": null,
      "id": "0d088a12-9c47-4fd1-9650-f69d75d1e5ba",
      "metadata": {
        "id": "0d088a12-9c47-4fd1-9650-f69d75d1e5ba"
      },
      "outputs": [],
      "source": [
        "#Aplicando escenario hipotético a la tv de e\n",
        "fam.solve_as_equalities(\n",
        "    [eq23,eq24,eq25],\n",
        "    [uhat,y,yK]\n",
        ")[0][0]"
      ]
    },
    {
      "cell_type": "markdown",
      "id": "93fdd0c4-06e7-45fb-95b8-16292ff4e5ad",
      "metadata": {
        "id": "93fdd0c4-06e7-45fb-95b8-16292ff4e5ad"
      },
      "source": [
        "## 1.3. Comparando diferentes modelos de crecimiento"
      ]
    },
    {
      "cell_type": "markdown",
      "id": "a5d50fd9-2783-4759-86b5-de9975579fc3",
      "metadata": {
        "id": "a5d50fd9-2783-4759-86b5-de9975579fc3"
      },
      "source": [
        "### 1.3.1. Enfoque neoclásico exógeno"
      ]
    },
    {
      "cell_type": "code",
      "execution_count": null,
      "id": "3e58e098-9e4b-4a2c-b25e-8287946f33ac",
      "metadata": {
        "id": "3e58e098-9e4b-4a2c-b25e-8287946f33ac"
      },
      "outputs": [],
      "source": [
        "#Definimos al ahorro, la tasa de ahorro y la inversión\n",
        "S = sp.Function('S')(t)\n",
        "I = sp.Function('I')(t)\n",
        "s = sp.Symbol('s')"
      ]
    },
    {
      "cell_type": "code",
      "execution_count": null,
      "id": "349ee176-fb27-4576-bfb5-5aee59c0cb9a",
      "metadata": {
        "id": "349ee176-fb27-4576-bfb5-5aee59c0cb9a"
      },
      "outputs": [],
      "source": [
        "#Inversión definida por el ahorro\n",
        "eq26 = sp.Eq(I,S)\n",
        "eq26"
      ]
    },
    {
      "cell_type": "code",
      "execution_count": null,
      "id": "48cc8f3c-d4a7-463d-8bce-ca5a6f171cbf",
      "metadata": {
        "id": "48cc8f3c-d4a7-463d-8bce-ca5a6f171cbf"
      },
      "outputs": [],
      "source": [
        "#Ahorro proveniente del ingreso\n",
        "eq27 = sp.Eq(S,s*Y)\n",
        "eq27"
      ]
    },
    {
      "cell_type": "code",
      "execution_count": null,
      "id": "6acc2510-0de6-4931-a5ed-6cbc5c56d5e3",
      "metadata": {
        "id": "6acc2510-0de6-4931-a5ed-6cbc5c56d5e3"
      },
      "outputs": [],
      "source": [
        "#Inversión financiada por el producto\n",
        "eq28=fam.solve_as_equalities(\n",
        "    [eq26,eq27],\n",
        "    [I,S]\n",
        ")[0][0]\n",
        "eq28"
      ]
    },
    {
      "cell_type": "code",
      "execution_count": null,
      "id": "2d71e716-82f9-4918-9c54-6d2fde110995",
      "metadata": {
        "id": "2d71e716-82f9-4918-9c54-6d2fde110995"
      },
      "outputs": [],
      "source": [
        "#Definimos índice de eficiencia laboral, productividad efectiva e intensidad de capital efectiva\n",
        "A = sp.Function('A')(t)\n",
        "Ahat = sp.Function(r'\\hat{A}')(t)\n",
        "Qef = sp.Function(r'Q_{ef}')(t)\n",
        "Qefhat = sp.Function(r'\\hat{Q_{ef}}')(t)\n",
        "kef = sp.Function(r'k_{ef}')(t)\n",
        "kefhat = sp.Function(r'\\hat{k_{ef}}')(t)\n",
        "kefdot = sp.diff(kef,t)"
      ]
    },
    {
      "cell_type": "code",
      "execution_count": null,
      "id": "925dd86f-b85b-44b9-b716-fb1dc80a0720",
      "metadata": {
        "id": "925dd86f-b85b-44b9-b716-fb1dc80a0720"
      },
      "outputs": [],
      "source": [
        "#Cambiar dependiendo de si se desea resultado general (1) o con Cobb-Douglas (2)\n",
        "opcion = 1"
      ]
    },
    {
      "cell_type": "code",
      "execution_count": null,
      "id": "a1fbe3dd-02d9-42a6-a3ff-0346393cca9a",
      "metadata": {
        "id": "a1fbe3dd-02d9-42a6-a3ff-0346393cca9a"
      },
      "outputs": [],
      "source": [
        "#Definimos función de producción con eficiencia laboral A\n",
        "alpha = sp.Symbol(r'\\alpha', positive=True, real=True)\n",
        "if opcion == 1:\n",
        "    eq29 = sp.Eq(Y,F(K,A*L)) #Opción 1: términos genéricos\n",
        "elif opcion ==2:\n",
        "    eq29 = sp.Eq(Y,K**alpha*(A*L)**(1-alpha)) #Opción 2: caso Cobb-Douglas con rendimientos constantes de escala\n",
        "eq29"
      ]
    },
    {
      "cell_type": "code",
      "execution_count": null,
      "id": "33086066-2585-4271-a5b4-f49d02a45ee1",
      "metadata": {
        "id": "33086066-2585-4271-a5b4-f49d02a45ee1"
      },
      "outputs": [],
      "source": [
        "#Definimos la productividad efective e intensidad de capital efectiva\n",
        "eq30, eq31 = sp.Eq(Qef,Y/(A*L)), sp.Eq(kef,K/(A*L))\n",
        "eq30, eq31"
      ]
    },
    {
      "cell_type": "code",
      "execution_count": null,
      "id": "47114f68-f92e-4ad3-97f4-5011173d77aa",
      "metadata": {
        "id": "47114f68-f92e-4ad3-97f4-5011173d77aa"
      },
      "outputs": [],
      "source": [
        "#Obtenemos la función de producción en forma intensiva\n",
        "#Paso 1: reemplazamos Y, K por magnitudes en forma intensiva\n",
        "eq32a = fam.solve_as_equalities([eq29,eq30,eq31],\n",
        "                                [Qef,Y,K])[0][0]\n",
        "#Usamos función para simplificar potencias\n",
        "eq32a = fam.simplify_powers_func(eq32a,t,[L,K,A])\n",
        "eq32a"
      ]
    },
    {
      "cell_type": "code",
      "execution_count": null,
      "id": "ed26df76-c37b-4a21-903b-1e459c0182a0",
      "metadata": {
        "id": "ed26df76-c37b-4a21-903b-1e459c0182a0"
      },
      "outputs": [],
      "source": [
        "#Paso 2: definimos función intensiva y supuesto de rendimientos constantes de escala\n",
        "f = sp.Function('f')\n",
        "rce = sp.Eq(F(A*L*kef,A*L),A*L*f(kef))\n",
        "rce"
      ]
    },
    {
      "cell_type": "code",
      "execution_count": null,
      "id": "3aabe447-be72-4643-badd-6bf65de79f4d",
      "metadata": {
        "id": "3aabe447-be72-4643-badd-6bf65de79f4d"
      },
      "outputs": [],
      "source": [
        "#Paso 3: aplicamos el supuesto\n",
        "eq32 = fam.solve_as_equalities(\n",
        "    [eq32a,rce],\n",
        "    [Qef,F(A*L*kef,A*L)]\n",
        ")[0][0]\n",
        "eq32"
      ]
    },
    {
      "cell_type": "code",
      "execution_count": null,
      "id": "87eb1909-4fe5-4877-95dd-44ea6aa940fc",
      "metadata": {
        "id": "87eb1909-4fe5-4877-95dd-44ea6aa940fc"
      },
      "outputs": [],
      "source": [
        "#Gráfica de la eq46 para caso Cobb-Douglas con A=1 (no aplicar en caso teórico) (versión estática)\n",
        "if opcion==2:\n",
        "    fam.plot_from_eq_list(eqs=[eq32,eq32,eq32,eq32],\n",
        "                          x_sym=kef,y_sym=Qef,\n",
        "                          per_eq_params=[{alpha:0.5},\n",
        "                                         {alpha:0.45},\n",
        "                                         {alpha:0.4},\n",
        "                                         {alpha:0.35}],\n",
        "                          x_range=(0,10),\n",
        "                          xlim=(-0.1,10),\n",
        "                          ylim=(-0.1,3),\n",
        "                          show_legend=True,\n",
        "                          labels=[r\"$\\alpha$ = 0.5\",\n",
        "                                  r\"$\\alpha$ = 0.45\",\n",
        "                                  r\"$\\alpha$ = 0.4\",\n",
        "                                  r\"$\\alpha$ = 0.35\"],\n",
        "                          title=\"Ejemplos de función de producción en forma intensiva\",\n",
        "                          label_x=\"$k_{ef}$\", label_y=\"$Q_{ef}$\"\n",
        "                         )"
      ]
    },
    {
      "cell_type": "code",
      "execution_count": null,
      "id": "cf7694b8",
      "metadata": {
        "id": "cf7694b8"
      },
      "outputs": [],
      "source": [
        "#Gráfica de la eq46 para caso Cobb-Douglas con A=1 (no aplicar en caso teórico) (versión interactiva)\n",
        "if opcion==2:\n",
        "    fam.plot_from_eq_list(eqs=[eq32],\n",
        "                          x_sym=kef,y_sym=Qef,\n",
        "                          per_eq_params=[{alpha:0.5}],\n",
        "                          x_range=(0,10),\n",
        "                          xlim=(-0.1,10),\n",
        "                          ylim=(-0.1,3),\n",
        "                          show_legend=True,\n",
        "                          labels=[r\"$k_{ef}^\\alpha$\"],\n",
        "                          title=\"Ejemplos de función de producción en forma intensiva\",\n",
        "                          label_x=\"$k_{ef}$\", label_y=\"$Q_{ef}$\",\n",
        "                          interactive=True,\n",
        "                          sliders={alpha:{\"min\":0, \"max\":1,\"init\":0.5}}\n",
        "                         )"
      ]
    },
    {
      "cell_type": "code",
      "execution_count": null,
      "id": "6770fd05",
      "metadata": {
        "id": "6770fd05"
      },
      "outputs": [],
      "source": [
        "#Cerramos figuras que pueden quedar abiertas en el caso interactivo\n",
        "plt.close('all')"
      ]
    },
    {
      "cell_type": "code",
      "execution_count": null,
      "id": "f0d89fc9-76ef-4a8e-9ed3-a3845a759da7",
      "metadata": {
        "id": "f0d89fc9-76ef-4a8e-9ed3-a3845a759da7"
      },
      "outputs": [],
      "source": [
        "#Log-diferenciando la intensidad del capital\n",
        "eq33 = fam.dot_to_hat(\n",
        "    fam.diff_ln_eq(eq31,t),\n",
        "    [kef,L,K,A],t\n",
        ")\n",
        "eq33"
      ]
    },
    {
      "cell_type": "code",
      "execution_count": null,
      "id": "d5e33e80-f3bf-424d-8d00-2a62818b727c",
      "metadata": {
        "id": "d5e33e80-f3bf-424d-8d00-2a62818b727c"
      },
      "outputs": [],
      "source": [
        "#Asumimos pleno empleo\n",
        "eq34 = sp.Eq(L,N)\n",
        "eq34"
      ]
    },
    {
      "cell_type": "code",
      "execution_count": null,
      "id": "2501f6bc-432f-4875-b6ca-17df786f1eef",
      "metadata": {
        "id": "2501f6bc-432f-4875-b6ca-17df786f1eef"
      },
      "outputs": [],
      "source": [
        "#Asumimos tasas de crecimiento constantes para oferta laboral y productividad del trabajo\n",
        "nbar , qbar = sp.symbols(r'\\bar{n} \\bar{q}')\n",
        "eq35, eq36=sp.Eq(Nhat,nbar) , sp.Eq(Ahat,qbar)\n",
        "eq35, eq36"
      ]
    },
    {
      "cell_type": "code",
      "execution_count": null,
      "id": "b057cedd-edf2-48ca-8ede-4e2170cb5691",
      "metadata": {
        "id": "b057cedd-edf2-48ca-8ede-4e2170cb5691"
      },
      "outputs": [],
      "source": [
        "#Definimos la inversión como la expansión (derivada temporal) del capital\n",
        "eq37 = fam.hat_to_dot(\n",
        "    sp.Eq(I,K*Khat),\n",
        "    [K],t\n",
        ")\n",
        "eq37"
      ]
    },
    {
      "cell_type": "code",
      "execution_count": null,
      "id": "aea11324-3770-491e-993d-c46956abf50e",
      "metadata": {
        "id": "aea11324-3770-491e-993d-c46956abf50e"
      },
      "outputs": [],
      "source": [
        "#Ecuación dinámica central del modelo de Solow\n",
        "#Paso 1: log-diferenciamos eq34\n",
        "eq38a= fam.dot_to_hat(\n",
        "    fam.diff_ln_eq(eq34,t),\n",
        "    [L,N],t\n",
        ")\n",
        "eq38a"
      ]
    },
    {
      "cell_type": "code",
      "execution_count": null,
      "id": "826c66e4-30dc-4df8-87c2-740d29c01f17",
      "metadata": {
        "id": "826c66e4-30dc-4df8-87c2-740d29c01f17"
      },
      "outputs": [],
      "source": [
        "#Paso 2: paso eq37 a gorros\n",
        "eq38b = fam.dot_to_hat(eq37,[K],t)\n",
        "eq38b"
      ]
    },
    {
      "cell_type": "code",
      "execution_count": null,
      "id": "2625ac7d-1e41-4868-bde6-82a99cee9dc4",
      "metadata": {
        "id": "2625ac7d-1e41-4868-bde6-82a99cee9dc4"
      },
      "outputs": [],
      "source": [
        "#Paso 3: reemplazo todo\n",
        "eq38c = fam.solve_as_equalities(\n",
        "    [eq33,eq38a,eq38b,eq35,eq36],\n",
        "    [kefhat,Lhat,Khat,Nhat,Ahat]\n",
        ")[0][0]\n",
        "eq38c"
      ]
    },
    {
      "cell_type": "code",
      "execution_count": null,
      "id": "7766b007-d736-4c23-9238-dfa76894025e",
      "metadata": {
        "id": "7766b007-d736-4c23-9238-dfa76894025e"
      },
      "outputs": [],
      "source": [
        "#Paso 4: reemplazo I por sY\n",
        "eq38d = fam.solve_as_equalities(\n",
        "    [eq38c,eq28],\n",
        "    [kefhat,I]\n",
        ")[0][0]\n",
        "eq38d"
      ]
    },
    {
      "cell_type": "code",
      "execution_count": null,
      "id": "0714578f-4c65-48b0-806a-75a65a3b5761",
      "metadata": {
        "id": "0714578f-4c65-48b0-806a-75a65a3b5761"
      },
      "outputs": [],
      "source": [
        "#Paso 5: aplico las definiciones de Qef (eq30) y kef (eq31)\n",
        "eq38e = fam.solve_as_equalities(\n",
        "    [eq38d, eq30, eq31],\n",
        "    [kefhat,Y,K]\n",
        ")[0][0]\n",
        "eq38e"
      ]
    },
    {
      "cell_type": "code",
      "execution_count": null,
      "id": "bc4f4ba4-2411-4433-a0e5-f2962cdb8b21",
      "metadata": {
        "id": "bc4f4ba4-2411-4433-a0e5-f2962cdb8b21"
      },
      "outputs": [],
      "source": [
        "#Paso 6: reemplazo khat por su versión en punto\n",
        "eq38f = fam.hat_to_dot(eq38e,[kef],t)\n",
        "eq38f"
      ]
    },
    {
      "cell_type": "code",
      "execution_count": null,
      "id": "946ea964-73c1-42ce-a022-b637150c6258",
      "metadata": {
        "id": "946ea964-73c1-42ce-a022-b637150c6258"
      },
      "outputs": [],
      "source": [
        "#Paso 7: reemplazo Qef por la función de producción en modo intensivo\n",
        "eq38 = fam.solve_as_equalities(\n",
        "    [eq38f,eq32],\n",
        "    [kefdot,Qef]\n",
        ")[0][0]\n",
        "eq38"
      ]
    },
    {
      "cell_type": "code",
      "execution_count": null,
      "id": "aa49bbc5-7c14-46d6-bceb-9839cfef776a",
      "metadata": {
        "id": "aa49bbc5-7c14-46d6-bceb-9839cfef776a"
      },
      "outputs": [],
      "source": [
        "#Condición de equilibrio balanceado\n",
        "eq39=sp.Eq(sp.diff(kef,t),0)\n",
        "eq39"
      ]
    },
    {
      "cell_type": "code",
      "execution_count": null,
      "id": "b9dd8f2f-d9e0-49d9-af41-a8627f175d13",
      "metadata": {
        "id": "b9dd8f2f-d9e0-49d9-af41-a8627f175d13"
      },
      "outputs": [],
      "source": [
        "#Obtención del valor de equilibrio de k en Cobb-Douglas\n",
        "if opcion==2:\n",
        "    solkefSolow = fam.solve_as_equalities([eq38,eq39],\n",
        "                           [kef,kefdot])[0][0]\n",
        "elif opcion==1:\n",
        "    solkefSolow = None\n",
        "solkefSolow"
      ]
    },
    {
      "cell_type": "code",
      "execution_count": null,
      "id": "355595bc",
      "metadata": {
        "id": "355595bc"
      },
      "outputs": [],
      "source": [
        "#Obtener el valor de Qef en el equilibrio con Cobb-Douglas\n",
        "if opcion==2:\n",
        "    solQefSolow=fam.solve_as_equalities(\n",
        "        [eq32,solkefSolow],\n",
        "        [Qef,kef]\n",
        "    )[0][0]\n",
        "elif opcion==1:\n",
        "    solQefSolow = None\n",
        "solQefSolow"
      ]
    },
    {
      "cell_type": "code",
      "execution_count": null,
      "id": "d76bf2c0-234b-4fbd-a640-562119124418",
      "metadata": {
        "id": "d76bf2c0-234b-4fbd-a640-562119124418"
      },
      "outputs": [],
      "source": [
        "#Descomponemos sumandos de la ecuación diferencial\n",
        "ff1,ff2,ff3 = sp.Add.make_args(eq38.rhs)\n",
        "ff1,ff2,ff3"
      ]
    },
    {
      "cell_type": "code",
      "execution_count": null,
      "id": "4b50d0fc",
      "metadata": {
        "id": "4b50d0fc"
      },
      "outputs": [],
      "source": [
        "#Gráfica de la definición del punto de equilibrio del modelo de Solow (enfoque económico) (versión interactiva)\n",
        "if opcion==2:\n",
        "    fam.plot_from_eq_list(eqs=[eq32,sp.Eq(Qef,ff1),sp.Eq(Qef,-ff2-ff3)],\n",
        "                          vertical_eq=solkefSolow,\n",
        "                          horizontal_eq=solQefSolow,\n",
        "                          x_sym=kef,y_sym=Qef,\n",
        "                          shared_params={alpha:0.5,s:0.7, nbar:0.1,qbar:0.1},\n",
        "                          vline_color='gray',\n",
        "                          hline_color='black',\n",
        "                          x_range=(0, 20),\n",
        "                          xlim=(-0.1,20),\n",
        "                          ylim=(-0.1,5),\n",
        "                          show_legend=True,\n",
        "                          labels=[r\"$f(k_{ef})$\",\n",
        "                                  r\"$sf(k_{ef})$\",\n",
        "                                  r\"$(\\bar{n}+\\bar{q})k_{ef}$\"\n",
        "                                 ],\n",
        "                          vertical_labels=r\"Equilibrio $k_{ef}^*$\",\n",
        "                          horizontal_labels=r\"Equilibrio $Q_{ef}^*$\",\n",
        "                          title=\"Identificación del equilibrio en el modelo de Solow (enfoque económico)\",\n",
        "                          tam_fig=(10,5),label_x=\"$k_{ef}$\", label_y=\"$Q_{ef}$\",\n",
        "                          interactive=True,\n",
        "                          sliders={alpha: {\"min\":0, \"max\":1, \"init\":0.5},\n",
        "                                   s: {\"min\":0,\"max\":1,\"init\":0.7},\n",
        "                                   nbar:{\"min\":0,\"max\":0.2,\"init\":0.1},\n",
        "                                   qbar:{\"min\":0,\"max\":0.2,\"init\":0.1}}\n",
        "                         )"
      ]
    },
    {
      "cell_type": "code",
      "execution_count": null,
      "id": "f2baff1b-8f9f-47b0-a953-0a6c1ecd89dd",
      "metadata": {
        "id": "f2baff1b-8f9f-47b0-a953-0a6c1ecd89dd"
      },
      "outputs": [],
      "source": [
        "#Gráfica de la definición del punto de equilibrio del modelo de Solow (enfoque sistema dinámico)(versión interactiva)\n",
        "if opcion==2:\n",
        "    fam.plot_from_eq_list(eqs=[eq38],\n",
        "                          vertical_eq=solkefSolow,\n",
        "                          horizontal_eq=eq39,\n",
        "                          x_sym=kef,y_sym=kefdot,\n",
        "                          shared_params={alpha:0.5,s:0.7,nbar:0.1,qbar:0.1},\n",
        "                          x_range=(0, 15),\n",
        "                          xlim=(-0.1,15),\n",
        "                          ylim=(-0.1,0.65),\n",
        "                          show_legend=True,\n",
        "                          labels=[r\"$\\dot{k_{ef}}=sf(k_{ef})-(\\bar{n}+\\bar{q})k_{ef}$\"],\n",
        "                          vertical_labels=r\"$k_{ef}^*$\",\n",
        "                          horizontal_labels=r\"$\\dot{k_{ef}}=0$\",\n",
        "                          vline_color='gray',\n",
        "                          hline_color='red',\n",
        "                          title=\"Identificación del equilibrio en el modelo de Solow (sistema dinámico)\",\n",
        "                          tam_fig=(10,5), label_x=\"$k_{ef}$\", label_y=\"$Q_{ef}$\",\n",
        "                          interactive=True,\n",
        "                          sliders={alpha: {\"min\":0, \"max\":1, \"init\":0.5},\n",
        "                                   s: {\"min\":0,\"max\":1,\"init\":0.7},\n",
        "                                   nbar:{\"min\":0,\"max\":0.2,\"init\":0.1},\n",
        "                                   qbar:{\"min\":0,\"max\":0.2,\"init\":0.1}}\n",
        "                         )"
      ]
    },
    {
      "cell_type": "code",
      "execution_count": null,
      "id": "c371197f",
      "metadata": {
        "id": "c371197f"
      },
      "outputs": [],
      "source": [
        "#Gráfico del campo de direcciones (slope field) del modelo de Solow\n",
        "if opcion ==2:\n",
        "        fam.plot_slope_field(ode=eq38,\n",
        "                        t_sym=t,\n",
        "                        y_sym=kef,\n",
        "                        shared_params={alpha:0.5,s:0.7,nbar:0.1,qbar:0.1},\n",
        "                        t_range=(0,30),y_range=(0,20),\n",
        "                        xlim=(-0.5,30),ylim=(-0.5,20),\n",
        "                        label_y=r\"$k_{ef}$\",\n",
        "                        seg_len=1,arrows=True,\n",
        "                        solutions=[{\"y0\":17.5,\"color\":\"blue\",\"t_span\":(0,30)},\n",
        "                                   {\"y0\":7.5,\"color\":\"blue\",\"t_span\":(0,30)}],\n",
        "                        cmap=\"viridis\", title=\"Campo de direcciones del modelo de Solow\",\n",
        "                        interactive=True,\n",
        "                        sliders={alpha:{\"min\":0,\"max\":1,\"init\":0.5},\n",
        "                                s:{\"min\":0,\"max\":1,\"init\":0.7},\n",
        "                                nbar:{\"min\":0,\"max\":0.2,\"init\":0.1},\n",
        "                                qbar:{\"min\":0,\"max\":0.2,\"init\":0.1}}\n",
        "                        )"
      ]
    },
    {
      "cell_type": "code",
      "execution_count": null,
      "id": "99549d39",
      "metadata": {
        "id": "99549d39"
      },
      "outputs": [],
      "source": [
        "#Cerramos figuras que pueden quedar abiertas en el caso interactivo\n",
        "plt.close('all')"
      ]
    },
    {
      "cell_type": "code",
      "execution_count": null,
      "id": "bfecd660-7f56-48ab-871e-ff7890d55a06",
      "metadata": {
        "id": "bfecd660-7f56-48ab-871e-ff7890d55a06"
      },
      "outputs": [],
      "source": [
        "#Despejamos s del equilibrio\n",
        "eq40 = fam.solve_as_equalities(\n",
        "    [eq30,eq31,eq32,eq38,eq39],\n",
        "    [s,kefdot,f(kef),Qef,kef]\n",
        ")[0][0]\n",
        "eq40"
      ]
    },
    {
      "cell_type": "code",
      "execution_count": null,
      "id": "46f07fa9-2cfd-444d-bbf5-67bcb10b5614",
      "metadata": {
        "id": "46f07fa9-2cfd-444d-bbf5-67bcb10b5614"
      },
      "outputs": [],
      "source": [
        "#Pleno uso de capacidades\n",
        "eq41 = sp.Eq(Y,YK)\n",
        "eq41"
      ]
    },
    {
      "cell_type": "code",
      "execution_count": null,
      "id": "6ea8f806-ebe5-49b6-adb9-c47607580b2d",
      "metadata": {
        "id": "6ea8f806-ebe5-49b6-adb9-c47607580b2d"
      },
      "outputs": [],
      "source": [
        "#Ratio capital-producto potencial en equilibrio\n",
        "if opcion==1:\n",
        "    eq42 = fam.solve_as_equalities(\n",
        "        [eq10,eq40,eq41],\n",
        "        [a1,K,Y]\n",
        "    )[0][0]\n",
        "elif opcion==2:\n",
        "    eq42=None\n",
        "eq42"
      ]
    },
    {
      "cell_type": "code",
      "execution_count": null,
      "id": "4ed33d49-083a-46fa-9b24-b40258a1790c",
      "metadata": {
        "id": "4ed33d49-083a-46fa-9b24-b40258a1790c"
      },
      "outputs": [],
      "source": [
        "#Deducción final de tasa de crecimiento del capital\n",
        "#Paso 1: reemplazo ingreso Y e inversión I\n",
        "eq43a=fam.solve_as_equalities(\n",
        "    [eq28,eq37,eq40],\n",
        "    [Kdot,I,Y]\n",
        ")[0][0]\n",
        "eq43a"
      ]
    },
    {
      "cell_type": "code",
      "execution_count": null,
      "id": "04f508f4-bdc4-4fbe-90fa-4d1bbb2f71db",
      "metadata": {
        "id": "04f508f4-bdc4-4fbe-90fa-4d1bbb2f71db"
      },
      "outputs": [],
      "source": [
        "#Paso 2: reemplazo punto por gorro\n",
        "eq43=fam.dot_to_hat(\n",
        "    eq43a,\n",
        "    [K],t\n",
        ")\n",
        "eq43"
      ]
    },
    {
      "cell_type": "code",
      "execution_count": null,
      "id": "97a75ed4-12c6-485c-b693-e0b2165e2ff1",
      "metadata": {
        "id": "97a75ed4-12c6-485c-b693-e0b2165e2ff1"
      },
      "outputs": [],
      "source": [
        "#Capital y producto crecen a la misma tasa en el equilibrio\n",
        "eq44 = fam.dot_to_hat(\n",
        "    fam.diff_ln_eq(eq40,t),\n",
        "    [K,Y],t\n",
        ")\n",
        "eq44"
      ]
    },
    {
      "cell_type": "code",
      "execution_count": null,
      "id": "9ce3fd8c-ae8c-4165-86a2-85bb9a8e74e4",
      "metadata": {
        "id": "9ce3fd8c-ae8c-4165-86a2-85bb9a8e74e4"
      },
      "outputs": [],
      "source": [
        "#Deducción final de tasa de crecimiento efectiva = tasa natural\n",
        "eq45 = fam.solve_as_equalities(\n",
        "    [eq17,eq43,eq44],\n",
        "    [y,Yhat,Khat]\n",
        ")[0][0]\n",
        "eq45"
      ]
    },
    {
      "cell_type": "code",
      "execution_count": null,
      "id": "678d26ea-1bbf-4aad-8942-a9ffead4c3db",
      "metadata": {
        "id": "678d26ea-1bbf-4aad-8942-a9ffead4c3db"
      },
      "outputs": [],
      "source": [
        "#Implicación sobre la productividad del trabajo (no efectiva)\n",
        "#Paso 1: aplicamos supuesto de pleno empleo sobre Q (eq11)\n",
        "eq46a=fam.solve_as_equalities(\n",
        "    [eq11,eq34],\n",
        "    [Q,L]\n",
        ")[0][0]\n",
        "eq46a"
      ]
    },
    {
      "cell_type": "code",
      "execution_count": null,
      "id": "ad6114f6-a5a4-442a-bdb1-769d1bf6cbd3",
      "metadata": {
        "id": "ad6114f6-a5a4-442a-bdb1-769d1bf6cbd3"
      },
      "outputs": [],
      "source": [
        "#Paso 2: log-diferenciamos eq46a y pasamos a gorros\n",
        "eq46b=fam.dot_to_hat(\n",
        "    fam.diff_ln_eq(eq46a,t),\n",
        "    [Q,Y,N],t\n",
        ")\n",
        "eq46b"
      ]
    },
    {
      "cell_type": "code",
      "execution_count": null,
      "id": "051716ef-44a4-4de6-8d98-7cde80800f45",
      "metadata": {
        "id": "051716ef-44a4-4de6-8d98-7cde80800f45"
      },
      "outputs": [],
      "source": [
        "#Paso 3: aplicamos supuesto de Nhat=nbar (eq35) y cambio nombre a Yhat=y (eq17)\n",
        "eq46c=fam.solve_as_equalities(\n",
        "    [eq46b,eq35,eq17],\n",
        "    [Qhat,Nhat,Yhat]\n",
        ")[0][0]\n",
        "eq46c"
      ]
    },
    {
      "cell_type": "code",
      "execution_count": null,
      "id": "bb45bafb-acfe-40ea-b9c3-4966ebd4723b",
      "metadata": {
        "id": "bb45bafb-acfe-40ea-b9c3-4966ebd4723b"
      },
      "outputs": [],
      "source": [
        "#Paso 4: combinamos con eq45\n",
        "eq46=fam.solve_as_equalities(\n",
        "    [eq46c,eq45],\n",
        "    [Qhat,y]\n",
        ")[0][0]\n",
        "eq46"
      ]
    },
    {
      "cell_type": "markdown",
      "id": "0fe63120-bf6e-4e71-a4e4-26e159a0f47d",
      "metadata": {
        "id": "0fe63120-bf6e-4e71-a4e4-26e159a0f47d"
      },
      "source": [
        "### 1.3.2. Enfoque neoclásico endógeno"
      ]
    },
    {
      "cell_type": "code",
      "execution_count": null,
      "id": "9ae58a34",
      "metadata": {
        "id": "9ae58a34"
      },
      "outputs": [],
      "source": [
        "#Definimos función de producción Cobb-Douglas con índice de eficiencia laboral modificado\n",
        "B = sp.Function('B')(t)\n",
        "eq47=sp.Eq(Y,K**alpha*(B*L)**(1-alpha))\n",
        "eq47"
      ]
    },
    {
      "cell_type": "code",
      "execution_count": null,
      "id": "ce018fa5",
      "metadata": {
        "id": "ce018fa5"
      },
      "outputs": [],
      "source": [
        "#Definimos índice de eficiencia laboral modificada\n",
        "beta, gamma = sp.symbols(r'\\beta \\gamma', positive=True, real=True)\n",
        "eq48 = sp.Eq(B,beta*A*kef**gamma)\n",
        "eq48"
      ]
    },
    {
      "cell_type": "code",
      "execution_count": null,
      "id": "6fda826f",
      "metadata": {
        "id": "6fda826f"
      },
      "outputs": [],
      "source": [
        "#Definimos constante a\n",
        "a = sp.Symbol('a', positive=True, real=True)\n",
        "eq49 = sp.Eq(a,beta**(1-alpha))\n",
        "eq49"
      ]
    },
    {
      "cell_type": "code",
      "execution_count": null,
      "id": "43a6f917",
      "metadata": {
        "id": "43a6f917"
      },
      "outputs": [],
      "source": [
        "#Funcion de producción en forma intensiva modificada\n",
        "#Paso 1: resolvemos para beta\n",
        "eq50a=fam.solve_as_equalities(\n",
        "    [eq30,eq31,eq47,eq48],\n",
        "    [Qef,Y,K,B]\n",
        ")[0][0]\n",
        "eq50a=fam.simplify_powers_func(eq50a,t,[A,L,kef])\n",
        "eq50a"
      ]
    },
    {
      "cell_type": "code",
      "execution_count": null,
      "id": "562bd9b9",
      "metadata": {
        "id": "562bd9b9"
      },
      "outputs": [],
      "source": [
        "#Paso 2: reemplazamos beta\n",
        "eq50=fam.solve_as_equalities(\n",
        "    [eq49,eq50a],\n",
        "    [Qef,beta**(1-alpha)]\n",
        ")[0][0]\n",
        "eq50"
      ]
    },
    {
      "cell_type": "code",
      "execution_count": null,
      "id": "83d0fdba",
      "metadata": {
        "id": "83d0fdba"
      },
      "outputs": [],
      "source": [
        "#Ecuación diferencial del modelo\n",
        "eq51=fam.solve_as_equalities(\n",
        "    [eq38f,eq50],\n",
        "    [kefdot,Qef]\n",
        ")[0][0]\n",
        "eq51"
      ]
    },
    {
      "cell_type": "code",
      "execution_count": null,
      "id": "0af024a7",
      "metadata": {
        "id": "0af024a7"
      },
      "outputs": [],
      "source": [
        "#Obtenemos el valor de equilibrio kef\n",
        "solkefendogeno = fam.solve_as_equalities([eq39,eq51],\n",
        "                        [kef,kefdot])[0][0]\n",
        "solkefendogeno"
      ]
    },
    {
      "cell_type": "code",
      "execution_count": null,
      "id": "810c683d",
      "metadata": {
        "id": "810c683d"
      },
      "outputs": [],
      "source": [
        "#Obtenemos el valor de equilibrio Qf\n",
        "solQefendogeno = fam.solve_as_equalities(\n",
        "    [solkefendogeno,eq50],\n",
        "    [Qef,kef]\n",
        ")[0][0]\n",
        "solQefendogeno=fam.simplify_powers_func(solQefendogeno,t,[nbar,qbar])\n",
        "solQefendogeno"
      ]
    },
    {
      "cell_type": "code",
      "execution_count": null,
      "id": "73eaf39c",
      "metadata": {
        "id": "73eaf39c"
      },
      "outputs": [],
      "source": [
        "#Descomponemos sumandos de la ecuación diferencial\n",
        "ff1,ff2,ff3 = sp.Add.make_args(eq51.rhs)\n",
        "ff1,ff2,ff3"
      ]
    },
    {
      "cell_type": "code",
      "execution_count": null,
      "id": "158ab983",
      "metadata": {
        "id": "158ab983"
      },
      "outputs": [],
      "source": [
        "#Gráfica de la definición del punto de equilibrio del modelo de crecimiento semi-endógeno (enfoque económico)\n",
        "fam.plot_from_eq_list(eqs=[eq50,sp.Eq(Qef,ff3),sp.Eq(Qef,-ff1-ff2)],\n",
        "                        vertical_eq=[solkefendogeno],\n",
        "                        horizontal_eq=[solQefendogeno],\n",
        "                        x_sym=kef,y_sym=Qef,\n",
        "                        shared_params={alpha:0.5,s:0.7, nbar:0.1,qbar:0.1,a:1,gamma:0.2},\n",
        "                        vline_color='gray',\n",
        "                        hline_color='black',\n",
        "                        x_range=(0, 100),ylim=(0,20),\n",
        "                        show_legend=True,\n",
        "                        labels=[r\"$f(k_{ef})$\",\n",
        "                                r\"$sf(k_{ef})$\",\n",
        "                                r\"$(\\bar{n}+\\bar{q})k$\"\n",
        "                                ],\n",
        "                        vertical_labels=[r\"$k_{ef}^*$\"],\n",
        "                        horizontal_labels=[r\"$Q_{ef}^*$\"],\n",
        "                        title=\"Identificación del equilibrio en el modelo de crecimiento semi-endógeno (enfoque económico)\",\n",
        "                        tam_fig=(10,5),label_x=\"$k_{ef}$\", label_y=\"$Q_{ef}$\",\n",
        "                        interactive=True,\n",
        "                        sliders={gamma:{\"min\":0,\"max\":0.5,\"init\":0.2}}\n",
        "                        )"
      ]
    },
    {
      "cell_type": "code",
      "execution_count": null,
      "id": "fa1727a7",
      "metadata": {
        "id": "fa1727a7"
      },
      "outputs": [],
      "source": [
        "#Gráfica de la definición del punto de equilibrio del modelo de crecimiento semi-endógeno (enfoque sistema dinámico)\n",
        "fam.plot_from_eq_list(eqs=[eq51],\n",
        "                        vertical_eq=[solkefendogeno],\n",
        "                        horizontal_eq=[eq39],\n",
        "                        x_sym=kef,y_sym=kefdot,\n",
        "                        shared_params={alpha:0.5,s:0.7, nbar:0.1,qbar:0.1,a:1,gamma:0.2},\n",
        "                        x_range=(0, 100),\n",
        "                        xlim=(-0.1,100),\n",
        "                        ylim=(-0.1,2),\n",
        "                        show_legend=True,\n",
        "                        labels=[r\"$\\dot{k_{ef}}=sf(k_{ef})-(\\bar{n}+\\bar{q})k_{ef}$\"],\n",
        "                        vertical_labels=r\"$k_{ef}^*$\",\n",
        "                        horizontal_labels=r\"$\\dot{k_{ef}}=0$\",\n",
        "                        vline_color='gray',\n",
        "                        hline_color='red',\n",
        "                        title=\"Identificación del equilibrio en el modelo de crecimiento semi-endógeno (sistema dinámico)\",\n",
        "                        tam_fig=(10,5), label_x=\"$k_{ef}$\", label_y=\"$Q_{ef}$\",\n",
        "                        interactive=True,\n",
        "                        sliders={alpha: {\"min\":0, \"max\":1, \"init\":0.5},\n",
        "                                s: {\"min\":0,\"max\":1,\"init\":0.7},\n",
        "                                nbar:{\"min\":0,\"max\":0.2,\"init\":0.1},\n",
        "                                qbar:{\"min\":0,\"max\":0.2,\"init\":0.1},\n",
        "                                gamma:{\"min\":0,\"max\":0.5,\"init\":0.2}}\n",
        "                        )"
      ]
    },
    {
      "cell_type": "code",
      "execution_count": null,
      "id": "82a46288",
      "metadata": {
        "id": "82a46288"
      },
      "outputs": [],
      "source": [
        "#Gráfico del campo de direcciones (slope field) del modelo de crecmiento semi-endógeno\n",
        "fam.plot_slope_field(ode=eq51,\n",
        "                t_sym=t,\n",
        "                y_sym=kef,\n",
        "                shared_params={alpha:0.5,s:0.7, nbar:0.1,qbar:0.1,a:1,gamma:0.2},\n",
        "                t_range=(0,30),y_range=(0,30),\n",
        "                xlim=(-0.5,30),ylim=(-0.5,30),\n",
        "                label_y=r\"$k_{ef}$\",\n",
        "                seg_len=1,arrows=True,\n",
        "                solutions=[{\"y0\":17.5,\"color\":\"blue\",\"t_span\":(0,30)},\n",
        "                            {\"y0\":7.5,\"color\":\"blue\",\"t_span\":(0,30)}],\n",
        "                cmap=\"viridis\", title=\"Campo de direcciones del modelo de crecimiento semi-endógeno\",\n",
        "                interactive=True,\n",
        "                sliders={alpha:{\"min\":0,\"max\":1,\"init\":0.5},\n",
        "                        s:{\"min\":0,\"max\":1,\"init\":0.7},\n",
        "                        nbar:{\"min\":0,\"max\":0.2,\"init\":0.1},\n",
        "                        qbar:{\"min\":0,\"max\":0.2,\"init\":0.1},\n",
        "                        gamma:{\"min\":0,\"max\":0.5,\"init\":0.2}}\n",
        "                )"
      ]
    },
    {
      "cell_type": "code",
      "execution_count": null,
      "id": "477028ec",
      "metadata": {
        "id": "477028ec"
      },
      "outputs": [],
      "source": [
        "#Deducción de la ecuación diferencial del modelo AK\n",
        "eq52=fam.solve_as_equalities(\n",
        "    [eq51,sp.Eq(gamma,1)],\n",
        "    [kefdot,gamma]\n",
        ")[0][0]\n",
        "eq52"
      ]
    },
    {
      "cell_type": "code",
      "execution_count": null,
      "id": "52632428",
      "metadata": {
        "id": "52632428"
      },
      "outputs": [],
      "source": [
        "#Función de producción en el modelo AK\n",
        "eq53=fam.solve_as_equalities(\n",
        "    [eq31,eq47,eq48,eq49,sp.Eq(gamma,1)],\n",
        "    [Y,kef,B,beta,gamma]\n",
        ")[0][0]\n",
        "eq53=fam.simplify_powers_func(eq53,t,[K])\n",
        "eq53=sp.simplify(sp.powdenest(eq53,force=True),force=True)\n",
        "eq53"
      ]
    },
    {
      "cell_type": "code",
      "execution_count": null,
      "id": "a1d67120",
      "metadata": {
        "id": "a1d67120"
      },
      "outputs": [],
      "source": [
        "#Deducción de la tasa de crecimiento efectivo\n",
        "#Paso 1: diferenciamos eq53 y pasamos a gorros solo a Y\n",
        "eq54a=fam.diff_eq(eq53,t)\n",
        "eq54a"
      ]
    },
    {
      "cell_type": "code",
      "execution_count": null,
      "id": "e3edf522",
      "metadata": {
        "id": "e3edf522"
      },
      "outputs": [],
      "source": [
        "#Paso 2: reemplazamos por la definición de inversión y definiciones anteriores\n",
        "eq54b=fam.dot_to_hat(\n",
        "    fam.solve_as_equalities(\n",
        "        [eq54a,eq37,eq28],\n",
        "        [Y,I,Kdot]\n",
        "    )[0][0],\n",
        "    [Y],t\n",
        ")\n",
        "eq54b"
      ]
    },
    {
      "cell_type": "code",
      "execution_count": null,
      "id": "fa127fde",
      "metadata": {
        "id": "fa127fde"
      },
      "outputs": [],
      "source": [
        "#Paso 3: cambiamos nombre\n",
        "eq54=fam.solve_as_equalities(\n",
        "    [eq17,eq54b],\n",
        "    [y,Yhat]\n",
        ")[0][0]\n",
        "eq54"
      ]
    },
    {
      "cell_type": "code",
      "execution_count": null,
      "id": "989defe1",
      "metadata": {
        "id": "989defe1"
      },
      "outputs": [],
      "source": [
        "#Gráfica de la definición del punto de equilibrio del modelo AK (enfoque económico)\n",
        "fam.plot_from_eq_list(eqs=[eq50,sp.Eq(Qef,ff3),sp.Eq(Qef,-ff1-ff2)],\n",
        "                        vertical_eq=[solkefendogeno],\n",
        "                        horizontal_eq=[solQefendogeno],\n",
        "                        x_sym=kef,y_sym=Qef,\n",
        "                        shared_params={alpha:0.5,s:0.7, nbar:0.1,qbar:0.1,a:1,gamma:1},\n",
        "                        vline_color='gray',\n",
        "                        hline_color='black',\n",
        "                        x_range=(0, 100),ylim=(0,50),\n",
        "                        show_legend=True,\n",
        "                        labels=[r\"$f(k_{ef})$\",\n",
        "                                r\"$sf(k_{ef})$\",\n",
        "                                r\"$(\\bar{n}+\\bar{q})k$\"\n",
        "                                ],\n",
        "                        vertical_labels=[r\"$k_{ef}^*$\"],\n",
        "                        horizontal_labels=[r\"$Q_{ef}^*$\"],\n",
        "                        title=\"Ausencia de equilibrio en el modelo AK (enfoque económico)\",\n",
        "                        tam_fig=(10,5),label_x=\"$k_{ef}$\", label_y=\"$Q_{ef}$\",\n",
        "                        interactive=True,\n",
        "                        sliders={gamma:{\"min\":0,\"max\":2,\"init\":1}}\n",
        "                        )"
      ]
    },
    {
      "cell_type": "code",
      "execution_count": null,
      "id": "47aac87a",
      "metadata": {
        "id": "47aac87a"
      },
      "outputs": [],
      "source": [
        "#Gráfica de la definición del punto de equilibrio del modelo de crecimiento semi-endógeno (enfoque sistema dinámico)\n",
        "fam.plot_from_eq_list(eqs=[eq51],\n",
        "                        vertical_eq=[solkefendogeno],\n",
        "                        horizontal_eq=[eq39],\n",
        "                        x_sym=kef,y_sym=kefdot,\n",
        "                        shared_params={alpha:0.5,s:0.7, nbar:0.1,qbar:0.1,a:1,gamma:1},\n",
        "                        x_range=(0, 15),\n",
        "                        xlim=(-0.1,15),\n",
        "                        ylim=(-0.1,7.5),\n",
        "                        show_legend=True,\n",
        "                        labels=[r\"$\\dot{k_{ef}}=sf(k_{ef})-(\\bar{n}+\\bar{q})k_{ef}$\"],\n",
        "                        vertical_labels=r\"$k_{ef}^*$\",\n",
        "                        horizontal_labels=r\"$\\dot{k_{ef}}=0$\",\n",
        "                        vline_color='gray',\n",
        "                        hline_color='red',\n",
        "                        title=\"Ausencia de equilibrio en el modelo AK (sistema dinámico)\",\n",
        "                        tam_fig=(10,5), label_x=\"$k_{ef}$\", label_y=\"$Q_{ef}$\",\n",
        "                        interactive=True,\n",
        "                        sliders={alpha: {\"min\":0, \"max\":1, \"init\":0.5},\n",
        "                                s: {\"min\":0,\"max\":1,\"init\":0.7},\n",
        "                                nbar:{\"min\":0,\"max\":0.2,\"init\":0.1},\n",
        "                                qbar:{\"min\":0,\"max\":0.2,\"init\":0.1},\n",
        "                                gamma:{\"min\":0,\"max\":2,\"init\":1}}\n",
        "                        )"
      ]
    },
    {
      "cell_type": "code",
      "execution_count": null,
      "id": "9af625d1",
      "metadata": {
        "id": "9af625d1"
      },
      "outputs": [],
      "source": [
        "#Gráfico del campo de direcciones (slope field) del modelo AK\n",
        "fam.plot_slope_field(ode=eq51,\n",
        "                t_sym=t,\n",
        "                y_sym=kef,\n",
        "                shared_params={alpha:0.5,s:0.7, nbar:0.1,qbar:0.1,a:1,gamma:1},\n",
        "                t_range=(0,15),y_range=(0,100),\n",
        "                xlim=(-0.5,15),ylim=(-0.5,100),\n",
        "                label_y=r\"$k_{ef}$\",\n",
        "                seg_len=5,arrows=True,\n",
        "                solutions=[{\"y0\":17.5,\"color\":\"blue\",\"t_span\":(0,30)},\n",
        "                            {\"y0\":7.5,\"color\":\"blue\",\"t_span\":(0,30)}],\n",
        "                cmap=\"viridis\", title=\"Campo de direcciones del modelo AK\",\n",
        "                interactive=True,\n",
        "                sliders={alpha:{\"min\":0,\"max\":1,\"init\":0.5},\n",
        "                        s:{\"min\":0,\"max\":1,\"init\":0.7},\n",
        "                        nbar:{\"min\":0,\"max\":0.2,\"init\":0.1},\n",
        "                        qbar:{\"min\":0,\"max\":0.2,\"init\":0.1},\n",
        "                        gamma:{\"min\":0,\"max\":2,\"init\":1}}\n",
        "                )"
      ]
    },
    {
      "cell_type": "code",
      "execution_count": null,
      "id": "c822fe6c",
      "metadata": {
        "id": "c822fe6c"
      },
      "outputs": [],
      "source": [
        "#Cerramos figuras que pueden quedar abiertas en el caso dinámico\n",
        "plt.close('all')"
      ]
    },
    {
      "cell_type": "markdown",
      "id": "8a4b0ede",
      "metadata": {
        "id": "8a4b0ede"
      },
      "source": [
        "### 1.3.3. Enfoques heterodoxos: primer vistazo"
      ]
    },
    {
      "cell_type": "code",
      "execution_count": null,
      "id": "eb898faf",
      "metadata": {
        "id": "eb898faf"
      },
      "outputs": [],
      "source": [
        "#Definimos nuevos términos\n",
        "ZH = sp.Function(r'Z_H')(t)\n",
        "ZHbar =sp.Symbol(r\"\\bar{Z_H}\")\n",
        "f = sp.Function('f')\n",
        "h = sp.Function('h')"
      ]
    },
    {
      "cell_type": "code",
      "execution_count": null,
      "id": "7092662d",
      "metadata": {
        "id": "7092662d"
      },
      "outputs": [],
      "source": [
        "#Definimos ecuaciones generales\n",
        "eq55=sp.Eq(yN,q+n)\n",
        "eq56=sp.Eq(q,qbar)\n",
        "eq57=sp.Eq(n,nbar)\n",
        "eq58=sp.Eq(y,f(ZH))\n",
        "eq59=sp.Eq(ZH,ZHbar)\n",
        "(eq55,eq56,eq57,eq58,eq59)"
      ]
    },
    {
      "cell_type": "code",
      "execution_count": null,
      "id": "9fe09fa2",
      "metadata": {
        "id": "9fe09fa2"
      },
      "outputs": [],
      "source": [
        "#Despejamos la tasa natural\n",
        "eq60=fam.solve_as_equalities(\n",
        "    [eq55,eq56,eq57],\n",
        "    [yN,n,q]\n",
        ")[0][0]\n",
        "#Fijamos ZHbar\n",
        "eq61=fam.solve_as_equalities(\n",
        "    [eq58,eq59],\n",
        "    [y,ZH]\n",
        ")[0][0]\n",
        "eq60, eq61"
      ]
    },
    {
      "cell_type": "code",
      "execution_count": null,
      "id": "fb326e42",
      "metadata": {
        "id": "fb326e42"
      },
      "outputs": [],
      "source": [
        "#Definimos tasa de crecimiento de productividad endógena\n",
        "eq62=sp.Eq(q,h(y))\n",
        "eq62"
      ]
    },
    {
      "cell_type": "code",
      "execution_count": null,
      "id": "36867422",
      "metadata": {
        "id": "36867422"
      },
      "outputs": [],
      "source": [
        "#Obtenemos tasa natural endógena\n",
        "eq63=fam.solve_as_equalities(\n",
        "    [eq55,eq57,eq62,eq58,eq59],\n",
        "    [yN,n,q,y,ZH]\n",
        ")[0][0]\n",
        "eq63"
      ]
    }
  ],
  "metadata": {
    "kernelspec": {
      "display_name": "base",
      "language": "python",
      "name": "python3"
    },
    "language_info": {
      "codemirror_mode": {
        "name": "ipython",
        "version": 3
      },
      "file_extension": ".py",
      "mimetype": "text/x-python",
      "name": "python",
      "nbconvert_exporter": "python",
      "pygments_lexer": "ipython3",
      "version": "3.12.7"
    },
    "colab": {
      "provenance": [],
      "include_colab_link": true
    }
  },
  "nbformat": 4,
  "nbformat_minor": 5
}