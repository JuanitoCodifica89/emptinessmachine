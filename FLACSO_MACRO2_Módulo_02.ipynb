{
  "cells": [
    {
      "cell_type": "markdown",
      "metadata": {
        "id": "view-in-github",
        "colab_type": "text"
      },
      "source": [
        "<a href=\"https://colab.research.google.com/github/JuanitoCodifica89/emptinessmachine/blob/main/FLACSO_MACRO2_M%C3%B3dulo_02.ipynb\" target=\"_parent\"><img src=\"https://colab.research.google.com/assets/colab-badge.svg\" alt=\"Open In Colab\"/></a>"
      ]
    },
    {
      "cell_type": "markdown",
      "id": "eeff8b34",
      "metadata": {
        "id": "eeff8b34"
      },
      "source": [
        "# 2. Modelos clásico-Marxistas"
      ]
    },
    {
      "cell_type": "markdown",
      "id": "327e7605",
      "metadata": {
        "id": "327e7605"
      },
      "source": [
        "## 2.1. Introducción"
      ]
    },
    {
      "cell_type": "markdown",
      "id": "01f6ba6d",
      "metadata": {
        "id": "01f6ba6d"
      },
      "source": [
        "Los modelos de crecimiento y distribución que revisaremos en este módulo toman como base algunas intuiciones de pensadores clásicos y Marxistas.\n",
        "\n",
        "**Adam Smith**. *Una investigación sobre la naturaleza y causa de la riqueza de las naciones* (1776). Intuiciones: división del trabajo; acumulación de capital.\n",
        "\n",
        "**David Ricardo**. *Principios de economía política y tributación* (1817). Intuiciones: definición de las “leyes” que gobiernan la distribución; posibilidad de un estado estacionario; influencia de la maquinaria en la producción y el empleo.\n",
        "\n",
        "**Karl Marx**. *El Capital* (1867, 1885, 1894). Intuiciones: impacto de la lucha de clases (asalariados-capitalistas) en el crecimiento y cambio técnico capitalista; surgimiento de un ejército laboral de reserva; ciclos endógenos.\n",
        "\n",
        "En estos tres autores se nota una fuerte conexión entre el crecimiento capitalista y la distribución del ingreso entre clases sociales."
      ]
    },
    {
      "cell_type": "markdown",
      "id": "0ed9ca6d",
      "metadata": {
        "id": "0ed9ca6d"
      },
      "source": [
        "### 2.1.1. Breve mención a la controversia del capital"
      ]
    },
    {
      "cell_type": "code",
      "execution_count": null,
      "id": "f37c713d",
      "metadata": {
        "id": "f37c713d"
      },
      "outputs": [],
      "source": [
        "import sympy as sp #Para cálculos matemáticos\n",
        "import numpy as np #Para cálculos y manejos de estructuras de datos\n",
        "import matplotlib.pyplot as plt #Para gráficos estándar\n",
        "from sympy.physics.mechanics import dynamicsymbols, mechanics_printing #Escribe derivadas temporales con puntos\n",
        "import funciones_axiliares_macro as fam #Carga archivo con funciones auxiliares para macro\n",
        "import plotly.graph_objects as go #Para gráfico en 3d\n",
        "%matplotlib widget\n",
        "import ipywidgets as widgets\n",
        "\n",
        "sp.init_printing()  # Imprime resultados en Latex\n",
        "mechanics_printing() # Imprime las derivadas temporales con puntos"
      ]
    },
    {
      "cell_type": "code",
      "execution_count": null,
      "id": "b87af3e6",
      "metadata": {
        "id": "b87af3e6"
      },
      "outputs": [],
      "source": [
        "#Definimos términos para el ejemplo de la controversia del capital\n",
        "W0, r0, CVP = sp.symbols(r'W_0 r_0 CVP', positive = True, real=True)\n",
        "DCVP = sp.Symbol('DCVP', real=True)"
      ]
    },
    {
      "cell_type": "code",
      "execution_count": null,
      "id": "18eaed1e",
      "metadata": {
        "id": "18eaed1e"
      },
      "outputs": [],
      "source": [
        "#Definimos las ecuaciones de costo de cada técnica\n",
        "costoA=sp.Eq(CVP,7.4*W0*(1+r0)**2)\n",
        "costoB=sp.Eq(CVP,5.5*W0*(1+r0)+2.4*W0*(1+r0)**3)\n",
        "costoA, costoB"
      ]
    },
    {
      "cell_type": "code",
      "execution_count": null,
      "id": "0845bdc7",
      "metadata": {
        "id": "0845bdc7"
      },
      "outputs": [],
      "source": [
        "#Identificamos valores de r donde hay indiferencia\n",
        "indiferencia=fam.solve_as_equalities(\n",
        "    [costoA,costoB],\n",
        "    [r0,CVP]\n",
        ")\n",
        "indiferencia"
      ]
    },
    {
      "cell_type": "code",
      "execution_count": null,
      "id": "d73f7921",
      "metadata": {
        "id": "d73f7921"
      },
      "outputs": [],
      "source": [
        "#Dibujamos las ecuaciones de costo en función de r (asumimos w=1 por simplicidad)\n",
        "fam.plot_from_eq_list(eqs=[costoA,costoB],\n",
        "                        x_sym=r0,y_sym=CVP,\n",
        "                        vertical_eq=[indiferencia[0][0],indiferencia[1][0]],\n",
        "                        horizontal_eq=[indiferencia[0][1],indiferencia[1][1]],\n",
        "                        vline_color=\"black\",\n",
        "                        shared_params={W0:1},\n",
        "                        x_range=(0,1),\n",
        "                        xlim=(0,1),\n",
        "                        ylim=(5,30),\n",
        "                        show_legend=True,\n",
        "                        labels=[r\"$CVP_A$\",r\"$CVP_B$\"],\n",
        "                        vertical_labels=[r\"$r_1^*$\",r\"$r_2^*$\"],\n",
        "                        title=\"Comparación de costos (valor presente) de técnicas A y B\",\n",
        "                        label_x=\"$r_0$\", label_y=\"CVP\",\n",
        "                        interactive=True,\n",
        "                        sliders={W0: {\"min\":0, \"max\":2, \"init\":1}}\n",
        "                        )"
      ]
    },
    {
      "cell_type": "code",
      "execution_count": null,
      "id": "1e7b552e",
      "metadata": {
        "id": "1e7b552e"
      },
      "outputs": [],
      "source": [
        "#Dibujamos la diferencia de costos en función de r (asumimos w=1 por simplicidad)\n",
        "fam.plot_from_eq_list(eqs=[sp.Eq(DCVP,costoA.rhs-costoB.rhs)],\n",
        "                        x_sym=r0,y_sym=DCVP,\n",
        "                        vertical_eq=[indiferencia[0][0],indiferencia[1][0]],\n",
        "                        horizontal_eq=sp.Eq(DCVP,0),\n",
        "                        vline_color=\"black\",\n",
        "                        hline_color=\"red\",\n",
        "                        hline_style=\"-\",\n",
        "                        shared_params={W0:1},\n",
        "                        x_range=(0,1),\n",
        "                        xlim=(0,1),\n",
        "                        ylim=(-0.4,0.4),\n",
        "                        show_legend=True,\n",
        "                        labels=[\"Costo B - Costo A\"],\n",
        "                        vertical_labels=[r\"$r_1^*$\",r\"$r_2^*$\"],\n",
        "                        horizontal_labels=\"Indiferencia\",\n",
        "                        title=\"Costo técnica B - Costo técnica A\",\n",
        "                        label_x=\"$r_0$\", label_y=\"Costo técnica B - Costo técnica A\",\n",
        "                        interactive=True,\n",
        "                        sliders={W0: {\"min\":0, \"max\":2, \"init\":1}}\n",
        "                        )"
      ]
    },
    {
      "cell_type": "code",
      "execution_count": null,
      "id": "83f0a562",
      "metadata": {
        "id": "83f0a562"
      },
      "outputs": [],
      "source": [
        "#Cerramos figuras que pueden quedar abiertas en el caso interactivo\n",
        "plt.close('all')"
      ]
    },
    {
      "cell_type": "markdown",
      "id": "29a7b5ad",
      "metadata": {
        "id": "29a7b5ad"
      },
      "source": [
        "## 2.2. Esquema general"
      ]
    },
    {
      "cell_type": "code",
      "execution_count": null,
      "id": "1dbe4bc6",
      "metadata": {
        "id": "1dbe4bc6"
      },
      "outputs": [],
      "source": [
        "#Definimos términos como funciones del tiempo\n",
        "t = sp.Symbol('t') #Tiempo\n",
        "P = sp.Function('P')(t) #Nivel agregado de precios\n",
        "Y = sp.Function('Y')(t) #Producción o ingreso\n",
        "W = sp.Function('W')(t) #Salario nominal por unidad de trabajo\n",
        "L = sp.Function('L')(t) #Trabajo empleado\n",
        "r = sp.Function('r')(t) #Tasa de ganancia (del capital)\n",
        "K = sp.Function('K')(t) #Stock de capital instalado\n",
        "YK = sp.Function(r'Y_K')(t) #Producto (potencial) de capacidad plena\n",
        "un = sp.Symbol(r'u_n') #Nivel \"normal\" de uso de capacidad instalada\n",
        "a0 = sp.Symbol(r'a_0') #Ratio trabajo-producto\n",
        "a1 = sp.Symbol(r'a_1') #Ratio capital-producto\n",
        "u = sp.Function(r'u')(t) #Uso de capacidad instalada\n",
        "w = sp.Function('w')(t) #Salario real\n",
        "k = sp.Function('k')(t) #Intensidad de capital efectivo\n",
        "pi = sp.Function(r'\\pi')(t) #Participación capitalista\n",
        "Kdot = sp.diff(K,t) #Variación del capital (equivalente a la inversión)\n",
        "C = sp.Function('C')(t) #Consumo real agregado\n",
        "I = sp.Function('I')(t) #Inversión\n",
        "g = sp.Function('g')(t) #Tasa de acumulación (tasa de crecimiento del capital)\n",
        "c = sp.Function('c')(t) #Ratio consumo-trabajo\n",
        "cw = sp.Function(r'c_w')(t) #Consumo obrero promedio por trabajador\n",
        "cr = sp.Function(r'c_r')(t) #Consumo capitalista promedio por trabajador\n",
        "S = sp.Function(r'S')(t) #Ahorro agregado (capitalista)\n",
        "rmin = sp.Symbol(r'r_{min}') #Tasa de ganancia mínima luego de la cual los capitalistas ahorran-invierten\n",
        "sr = sp.Symbol(r's_r') #Propensión capitalista al ahorro (tasa de ahorro-inversión capitalista)"
      ]
    },
    {
      "cell_type": "code",
      "execution_count": null,
      "id": "e6a95a4b",
      "metadata": {
        "id": "e6a95a4b"
      },
      "outputs": [],
      "source": [
        "#Primeras ecuaciones\n",
        "eq1=sp.Eq(P*Y,W*L+r*P*K) #Distribución del ingreso\n",
        "eq2=sp.Eq(Y,sp.Min(L/a0,un*K/a1)) #Función de producción Leontief\n",
        "eq3=sp.Eq(a0,L/Y) #Ratio trabajo-producto\n",
        "eq4=sp.Eq(a1,K/YK) #Ratio capital-producto de capacidad plena\n",
        "eq5=sp.Eq(u,Y/YK) #Tasa de uso de capacidad instalada\n",
        "eq6=sp.Eq(u,un) #Supuesto de un uso \"normal\" de capacidades\n",
        "eq1,eq2,eq3,eq4,eq5,eq6"
      ]
    },
    {
      "cell_type": "code",
      "execution_count": null,
      "id": "96b74a89",
      "metadata": {
        "id": "96b74a89"
      },
      "outputs": [],
      "source": [
        "#Relación capital-producto efectivo\n",
        "eq7=fam.solve_as_equalities(\n",
        "    [eq4,eq5,eq6],\n",
        "    [K,YK,u]\n",
        ")[0][0]\n",
        "eq7"
      ]
    },
    {
      "cell_type": "code",
      "execution_count": null,
      "id": "a38f65fc",
      "metadata": {
        "id": "a38f65fc"
      },
      "outputs": [],
      "source": [
        "#Relación capital-trabajo\n",
        "eq8=fam.solve_as_equalities(\n",
        "    [eq3,eq7],\n",
        "    [K,Y]\n",
        ")[0][0]\n",
        "eq8"
      ]
    },
    {
      "cell_type": "code",
      "execution_count": null,
      "id": "1e0b8883",
      "metadata": {
        "id": "1e0b8883"
      },
      "outputs": [],
      "source": [
        "#Definición del salario real\n",
        "eq9=sp.Eq(w,W/P)\n",
        "eq9"
      ]
    },
    {
      "cell_type": "code",
      "execution_count": null,
      "id": "0beaa807",
      "metadata": {
        "id": "0beaa807"
      },
      "outputs": [],
      "source": [
        "#Obtenmos relación inversa salario real-tasa de ganancia (sin supuestos sobre tecnología)\n",
        "eq10=fam.solve_as_equalities(\n",
        "    [eq1,eq3,eq7,eq9],\n",
        "    [w,W,Y,K]\n",
        ")[0][0]\n",
        "eq10"
      ]
    },
    {
      "cell_type": "code",
      "execution_count": null,
      "id": "83c2e1ec",
      "metadata": {
        "id": "83c2e1ec"
      },
      "outputs": [],
      "source": [
        "#Gráfica de la relación inversa salario real-tasa de ganancia\n",
        "fam.plot_from_eq_list(eqs=[eq10],\n",
        "                        x_sym=r,y_sym=w,\n",
        "                        colors=[\"red\"],\n",
        "                        shared_params={a0:4,a1:2,un:1},\n",
        "                        x_range=(0,0.6),\n",
        "                        xlim=(0,0.6),\n",
        "                        ylim=(0,0.3),\n",
        "                        show_legend=True,\n",
        "                        labels=[f\"${sp.latex(eq10)}$\"],\n",
        "                        title=\"Relación inversa salario real-tasa de ganancia (asumiendo capacidad plena)\",\n",
        "                        label_x=\"Tasa de ganancia: r\", label_y=\"Salario real: w\",\n",
        "                        interactive=True,\n",
        "                        sliders={a0: {\"min\":0, \"max\":5, \"init\":4},\n",
        "                                 a1: {\"min\":0, \"max\":5, \"init\":2},\n",
        "                                 un: {\"min\":0, \"max\":1, \"init\":1}},\n",
        "                        freeze_initial=True\n",
        "                        )"
      ]
    },
    {
      "cell_type": "code",
      "execution_count": null,
      "id": "36a91e3d",
      "metadata": {
        "id": "36a91e3d"
      },
      "outputs": [],
      "source": [
        "#Cerramos figuras\n",
        "plt.close('all')"
      ]
    },
    {
      "cell_type": "code",
      "execution_count": null,
      "id": "404ae8b7",
      "metadata": {
        "id": "404ae8b7"
      },
      "outputs": [],
      "source": [
        "#Definimos la intensidad de capital efectivo\n",
        "eq11=sp.Eq(k,u*K/L)\n",
        "eq11"
      ]
    },
    {
      "cell_type": "code",
      "execution_count": null,
      "id": "76799677",
      "metadata": {
        "id": "76799677"
      },
      "outputs": [],
      "source": [
        "#Equivalencia entre a1/a0 y k efectivo\n",
        "eq12=fam.solve_as_equalities(\n",
        "    [eq6,eq8,eq11],\n",
        "    [k,K,u]\n",
        ")[0][0]\n",
        "eq12"
      ]
    },
    {
      "cell_type": "code",
      "execution_count": null,
      "id": "380600c2",
      "metadata": {
        "id": "380600c2"
      },
      "outputs": [],
      "source": [
        "#Definiendo la participación capitalista\n",
        "eq13=sp.Eq(pi,r*P*K/(P*Y))\n",
        "eq13"
      ]
    },
    {
      "cell_type": "code",
      "execution_count": null,
      "id": "d0d1fe73",
      "metadata": {
        "id": "d0d1fe73"
      },
      "outputs": [],
      "source": [
        "#Relación entre tasa de ganancia y participación capitalista\n",
        "eq14=fam.solve_as_equalities(\n",
        "    [eq7,eq13],\n",
        "    [r,K]\n",
        ")[0][0]\n",
        "eq14"
      ]
    },
    {
      "cell_type": "code",
      "execution_count": null,
      "id": "0a89ab86",
      "metadata": {
        "id": "0a89ab86"
      },
      "outputs": [],
      "source": [
        "#Definiendo nuevo grupo de ecuaciones\n",
        "eq15=sp.Eq(P*Y,P*C+P*I) #Equilibrio en el mercado de bienes (economía cerrada y sin gobierno)\n",
        "eq16=sp.Eq(I,Kdot) #Inversión igual al incremento del capital\n",
        "eq17=sp.Eq(g,Kdot/K) #Tasa de acumulación como tasa de crecimiento del capital\n",
        "eq18=sp.Eq(c,C/L) #Ratio consumo-trabajo\n",
        "eq15,eq16,eq17,eq18"
      ]
    },
    {
      "cell_type": "code",
      "execution_count": null,
      "id": "7789d297",
      "metadata": {
        "id": "7789d297"
      },
      "outputs": [],
      "source": [
        "#Relación inversa entre consumo e inversión\n",
        "eq19=fam.solve_as_equalities(\n",
        "    [eq3,eq7,eq15,eq16,eq17,eq18],\n",
        "    [c,C,L,Y,I,Kdot]\n",
        ")[0][0]\n",
        "eq19"
      ]
    },
    {
      "cell_type": "code",
      "execution_count": null,
      "id": "9c9c98ad",
      "metadata": {
        "id": "9c9c98ad"
      },
      "outputs": [],
      "source": [
        "#Gráfica de la relación inversa salario real-tasa de ganancia\n",
        "fam.plot_from_eq_list(eqs=[eq19],\n",
        "                        x_sym=g,y_sym=c,\n",
        "                        colors=[\"blue\"],\n",
        "                        shared_params={a0:4,a1:2,un:1},\n",
        "                        x_range=(0,0.6),\n",
        "                        xlim=(0,0.6),\n",
        "                        ylim=(0,0.3),\n",
        "                        show_legend=True,\n",
        "                        labels=[f\"${sp.latex(eq19)}$\"],\n",
        "                        title=\"Relación inversa consumo-inversión (asumiendo capacidad plena)\",\n",
        "                        label_x=\"Tasa de acumulación: g\", label_y=\"Ratio consumo-trabajo: c\",\n",
        "                        interactive=True,\n",
        "                        sliders={a0: {\"min\":0, \"max\":5, \"init\":4},\n",
        "                                 a1: {\"min\":0, \"max\":5, \"init\":2},\n",
        "                                 un: {\"min\":0, \"max\":1, \"init\":1}},\n",
        "                        freeze_initial=True\n",
        "                        )"
      ]
    },
    {
      "cell_type": "code",
      "execution_count": null,
      "id": "33d5ff61",
      "metadata": {
        "id": "33d5ff61"
      },
      "outputs": [],
      "source": [
        "#Cerramos figuras\n",
        "plt.close('all')"
      ]
    },
    {
      "cell_type": "code",
      "execution_count": null,
      "id": "884ed565",
      "metadata": {
        "id": "884ed565"
      },
      "outputs": [],
      "source": [
        "#Ecuaciones que completan la descripción del consumo\n",
        "eq20=sp.Eq(cw,w) #Salario destinado solo al consumo\n",
        "eq21=sp.Eq(cr,c-cw) #Consumo capitalista = consumo total - consumo obrero\n",
        "eq20,eq21"
      ]
    },
    {
      "cell_type": "code",
      "execution_count": null,
      "id": "dcca741d",
      "metadata": {
        "id": "dcca741d"
      },
      "outputs": [],
      "source": [
        "#Deducción del consumo capitalista\n",
        "eq22=fam.solve_as_equalities(\n",
        "    [eq20,eq21],\n",
        "    [cr,cw]\n",
        ")[0][0]\n",
        "eq22"
      ]
    },
    {
      "cell_type": "code",
      "execution_count": null,
      "id": "b0156b35",
      "metadata": {
        "id": "b0156b35"
      },
      "outputs": [],
      "source": [
        "#Definimos el ahorro capitalista\n",
        "#Oción 1: por tramos (genera algunos problemas al resolver sistemas de ecuaciones)\n",
        "# eq23=sp.Eq(S,\n",
        "#             sp.Piecewise(\n",
        "#                 (sr*(r-rmin)*K,r>rmin),\n",
        "#                 (0,r<=rmin)\n",
        "#             )\n",
        "# )\n",
        "#Opción 2: solo definimos el tramo positivo\n",
        "eq23=sp.Eq(S,sr*(r-rmin)*K)\n",
        "eq23"
      ]
    },
    {
      "cell_type": "code",
      "execution_count": null,
      "id": "a55ce81b",
      "metadata": {
        "id": "a55ce81b"
      },
      "outputs": [],
      "source": [
        "#Definimos la inversión (capitalista)\n",
        "eq24=sp.Eq(I,S)\n",
        "eq24"
      ]
    },
    {
      "cell_type": "code",
      "execution_count": null,
      "id": "ba1869e5",
      "metadata": {
        "id": "ba1869e5"
      },
      "outputs": [],
      "source": [
        "#Deducimos la tasa de acumulación g\n",
        "eq25=fam.solve_as_equalities(\n",
        "    [eq16,eq17,eq23,eq24],\n",
        "    [g,Kdot,I,S]\n",
        ")[0][0]\n",
        "eq25"
      ]
    },
    {
      "cell_type": "markdown",
      "id": "fd8ed036",
      "metadata": {
        "id": "fd8ed036"
      },
      "source": [
        "## 2.3. Diferentes cierres distributivos"
      ]
    },
    {
      "cell_type": "code",
      "execution_count": null,
      "id": "2cebd7f9",
      "metadata": {
        "id": "2cebd7f9"
      },
      "outputs": [],
      "source": [
        "#Definimos nuevos términos\n",
        "wbar = sp.Symbol(r'\\bar{w}') #Salario real exógeno (subsistencia + otros componentes sociales)\n",
        "pibar = sp.Symbol(r'\\bar{\\pi}') #Participación capitalista exógena (balance de poder de negociación)\n",
        "e = sp.Function('e')(t) #Tasa de empleo\n",
        "ehat = sp.Function(r'\\hat{e}')(t) #Tasa de variación de la tasa de empleo\n",
        "what = sp.Function(r'\\hat{w}')(t) #Tasa de variación del salario real\n",
        "N = sp.Function('N')(t) #Oferta de trabajo\n",
        "Nhat = sp.Function(r'\\hat{N}')(t) #Tasa de variación de la oferta de trabajo\n",
        "n = sp.Function('n')(t) #Nombre alternativo de la tv de la oferta de trabajo\n",
        "varphi = sp.Function(r'\\varphi') #Función que recoge la relación entre what y ehat\n",
        "varphi0 = sp.symbols(r'\\varphi_0') #Elasticidad del salario real con respecto a la tasa de empleo\n",
        "wdot = sp.diff(w,t) #Derivada temporal de w\n",
        "i = sp.Symbol('i') #Tasa de interés sobre los préstamos de las empresas\n",
        "lambda0 = sp.Symbol(r'\\lambda_0') #Prima de riesgo aplicada sobre la tasa de interés\n",
        "wstar = sp.Function(r'w^*')(t) #Salario real de equilibrio\n",
        "rstar = sp.Function(r'r^*')(t) #Tasa de ganancia de equilibrio\n",
        "gstar = sp.Function(r'g^*')(t) #Tasa de acumulación de equilibrio\n",
        "cstar = sp.Function(r'c^*')(t) #Ratio consumo-trabajo de equilibrio\n",
        "crstar = sp.Function(r'c_r^*')(t) #Ratio consumo capitalista-trabajo de equilibrio\n",
        "wLR = sp.Function(r'w^{LR}')(t) #Salario real de equilibrio LR\n",
        "rLR = sp.Function(r'r^{LR}')(t) #Tasa de ganancia de equilibrio LR\n",
        "gLR = sp.Function(r'g^{LR}')(t) #Tasa de acumulación de equilibrio LR\n",
        "cLR = sp.Function(r'c^{LR}')(t) #Ratio consumo-trabajo de equilibrio LR\n",
        "crLR = sp.Function(r'c_r^{LR}')(t) #Ratio consumo capitalista-trabajo de equilibrio LR\n",
        "nLR = sp.Function(r'n^{LR}')(t) #TV de oferta de trabajo de equilibrio LR\n",
        "n0,n1 = sp.symbols(r'n_0 n_1', positive=True, real=True) #Parámetros de la función de oferta de trabajo"
      ]
    },
    {
      "cell_type": "markdown",
      "id": "e9aa110d",
      "metadata": {
        "id": "e9aa110d"
      },
      "source": [
        "### 2.3.1. Cierre (1) con salario real exógeno"
      ]
    },
    {
      "cell_type": "code",
      "execution_count": null,
      "id": "cde921fe",
      "metadata": {
        "id": "cde921fe"
      },
      "outputs": [],
      "source": [
        "#Definiendo salario real exógeno\n",
        "eq26=sp.Eq(w,wbar)\n",
        "eq26"
      ]
    },
    {
      "cell_type": "code",
      "execution_count": null,
      "id": "c97df041",
      "metadata": {
        "id": "c97df041"
      },
      "outputs": [],
      "source": [
        "#Determinación de la solución de equilibrio en cierre (1)\n",
        "solcierre1=fam.solve_as_equalities(\n",
        "    [eq10,eq19,eq22,eq25,eq26],\n",
        "    [w,r,g,c,cr]\n",
        ")[0]\n",
        "solcierre1"
      ]
    },
    {
      "cell_type": "code",
      "execution_count": null,
      "id": "19739d46",
      "metadata": {
        "id": "19739d46"
      },
      "outputs": [],
      "source": [
        "#Asignamos valores de equilibrio (star)\n",
        "valeq={w:wstar, r:rstar, g:gstar, c:cstar, cr:crstar}\n",
        "eq27, eq28, eq29, eq30, eq31 = tuple(sol.subs(valeq) for sol in solcierre1)\n",
        "eq27, eq28, eq29, eq30, eq31"
      ]
    },
    {
      "cell_type": "code",
      "execution_count": null,
      "id": "e740e73e",
      "metadata": {
        "id": "e740e73e"
      },
      "outputs": [],
      "source": [
        "#Gráfica para ilustrar el cierre (1)\n",
        "xx, yy = sp.symbols('xx yy') #Creo símbolos auxiliares para ejes\n",
        "eq10tr=fam.change_quad(eq=eq10,x_old=w,y_old=r,X=xx,Y=yy,quad=\"TL\") #Indico que eq10 va en el eje superior izquierdo (TL)\n",
        "eq25tr=fam.change_quad(eq=eq25,x_old=g,y_old=r,X=xx,Y=yy,quad=\"TR\") #Indico que eq25 va en el eje superior derecho (TR)\n",
        "eq19tr=fam.change_quad(eq=eq19,x_old=g,y_old=c,X=xx,Y=yy,quad=\"BR\") #Indico que eq19 va en el eje inferior derecho (BR)\n",
        "eq20tr=fam.change_quad(eq=eq20,x_old=w,y_old=cw,X=xx,Y=yy,quad=\"BL\") #Indico que eq20 va en el eje inferior izquierdo (BL)\n",
        "eq27tr=eq27.subs({wstar:-xx}) #Defino eje de eq27\n",
        "eq28tr=eq28.subs({rstar:yy}) #Defino eje de eq28\n",
        "eq29tr=eq29.subs({gstar:xx}) #Defino eje de eq29\n",
        "eq30tr=eq30.subs({cstar:-yy}) #Defino eje de eq30\n",
        "eq27trh=eq27.subs({wstar:-yy}) #Defino eq27 de forma horizontal (cw=wbar)\n",
        "\n",
        "#Genero la gráfica con las ecuaciones transformadas\n",
        "fam.plot_from_eq_list(eqs=[eq10tr,eq25tr,eq19tr,eq20tr],\n",
        "                        x_sym=xx,y_sym=yy,\n",
        "                        colors=[\"blue\",\"purple\",\"green\",\"orange\"],\n",
        "                        shared_params={a0:4,a1:2,un:1,rmin:0.05,sr:0.8,wbar:0.1},\n",
        "                        show_legend=True,\n",
        "                        labels=[f\"${sp.latex(eq10)}$\",\n",
        "                                f\"${sp.latex(eq25)}$\",\n",
        "                                f\"${sp.latex(eq19)}$\",\n",
        "                                f\"${sp.latex(eq20)}$\"],\n",
        "                        vertical_eq=[sp.Eq(xx,0),eq27tr,eq29tr],\n",
        "                        vline_style=[\"-\",\"--\",\"--\"],\n",
        "                        vline_color=[\"black\",\"blue\",\"gray\"],\n",
        "                        horizontal_eq=[sp.Eq(yy,0),eq28tr,eq30tr,eq27trh],\n",
        "                        hline_style=[\"-\",\"--\",\"--\",\"--\"],\n",
        "                        hline_color=[\"black\",\"gray\",\"gray\",\"gray\"],\n",
        "                        x_range=(-0.6,0.6),\n",
        "                        xlim=(-0.6,0.6),\n",
        "                        ylim=(-0.6,0.6),\n",
        "                        interactive=True,\n",
        "                        tam_fig=(10,5),\n",
        "                        sliders={a0: {\"min\":0, \"max\":5, \"init\":4},\n",
        "                                 a1: {\"min\":0, \"max\":5, \"init\":2},\n",
        "                                 rmin: {\"min\":0, \"max\":1, \"init\":0.05},\n",
        "                                 sr: {\"min\":0, \"max\":1, \"init\":0.8},\n",
        "                                 wbar: {\"min\":0, \"max\":0.5, \"init\":0.1},\n",
        "                                 un: {\"min\":0, \"max\":1, \"init\":1}},\n",
        "                        freeze_initial=True\n",
        "                        )"
      ]
    },
    {
      "cell_type": "code",
      "execution_count": null,
      "id": "fc622182",
      "metadata": {
        "id": "fc622182"
      },
      "outputs": [],
      "source": [
        "#Cerramos figuras que pueden quedar abiertas en el caso interactivo\n",
        "plt.close('all')"
      ]
    },
    {
      "cell_type": "markdown",
      "id": "e516ba7b",
      "metadata": {
        "id": "e516ba7b"
      },
      "source": [
        "### 2.3.2. Cierre (2) con participación salarial exógena"
      ]
    },
    {
      "cell_type": "code",
      "execution_count": null,
      "id": "2f88068c",
      "metadata": {
        "id": "2f88068c"
      },
      "outputs": [],
      "source": [
        "#Definiendo participación capitalista exógena\n",
        "eq32=sp.Eq(pi,pibar)\n",
        "eq32"
      ]
    },
    {
      "cell_type": "code",
      "execution_count": null,
      "id": "88bbee1a",
      "metadata": {
        "id": "88bbee1a"
      },
      "outputs": [],
      "source": [
        "#Definiendo vínculo entre salario real y participación capitalista\n",
        "eq33=fam.solve_as_equalities(\n",
        "    [eq10,eq14, eq32],\n",
        "    [w,r,pi]\n",
        ")[0][0]\n",
        "eq33"
      ]
    },
    {
      "cell_type": "code",
      "execution_count": null,
      "id": "5d2e97f4",
      "metadata": {
        "id": "5d2e97f4"
      },
      "outputs": [],
      "source": [
        "#Determinación de la solución de equilibrio en cierre (2)\n",
        "solcierre2=fam.solve_as_equalities(\n",
        "    [eq10,eq19,eq22,eq25,eq33],\n",
        "    [w,r,g,c,cr]\n",
        ")[0]\n",
        "solcierre2"
      ]
    },
    {
      "cell_type": "code",
      "execution_count": null,
      "id": "c9aeafc9",
      "metadata": {
        "id": "c9aeafc9"
      },
      "outputs": [],
      "source": [
        "#Asignamos valores de equilibrio (star)\n",
        "eq34, eq35, eq36, eq37, eq38 = tuple(sol.subs(valeq) for sol in solcierre2)\n",
        "eq34, eq35, eq36, eq37, eq38"
      ]
    },
    {
      "cell_type": "code",
      "execution_count": null,
      "id": "e3249539",
      "metadata": {
        "id": "e3249539"
      },
      "outputs": [],
      "source": [
        "#Gráfica para ilustrar el cierre (2)\n",
        "eq34tr=eq34.subs({wstar:-xx}) #Defino eje de eq34\n",
        "eq35tr=eq35.subs({rstar:yy}) #Defino eje de eq35\n",
        "eq36tr=eq36.subs({gstar:xx}) #Defino eje de eq36\n",
        "eq37tr=eq37.subs({cstar:-yy}) #Defino eje de eq37\n",
        "eq34trh=eq34.subs({wstar:-yy}) #Defino eq34 de forma horizontal (cw=wbar)\n",
        "\n",
        "#Genero la gráfica con las ecuaciones transformadas\n",
        "fam.plot_from_eq_list(eqs=[eq10tr,eq25tr,eq19tr,eq20tr],\n",
        "                        x_sym=xx,y_sym=yy,\n",
        "                        colors=[\"blue\",\"purple\",\"green\",\"orange\"],\n",
        "                        shared_params={a0:4,a1:2,rmin:0.05,sr:0.8,un:1,pibar:0.3},\n",
        "                        show_legend=True,\n",
        "                        labels=[f\"${sp.latex(eq10)}$\",\n",
        "                                f\"${sp.latex(eq25)}$\",\n",
        "                                f\"${sp.latex(eq19)}$\",\n",
        "                                f\"${sp.latex(eq20)}$\"],\n",
        "                        vertical_eq=[sp.Eq(xx,0),eq34tr,eq36tr],\n",
        "                        vline_style=[\"-\",\"--\",\"--\"],\n",
        "                        vline_color=[\"black\",\"blue\",\"gray\"],\n",
        "                        horizontal_eq=[sp.Eq(yy,0),eq35tr,eq37tr,eq34trh],\n",
        "                        hline_style=[\"-\",\"--\",\"--\",\"--\"],\n",
        "                        hline_color=[\"black\",\"gray\",\"gray\",\"gray\"],\n",
        "                        x_range=(-0.6,0.6),\n",
        "                        xlim=(-0.6,0.6),\n",
        "                        ylim=(-0.6,0.6),\n",
        "                        interactive=True,\n",
        "                        tam_fig=(10,5),\n",
        "                        sliders={a0: {\"min\":0, \"max\":5, \"init\":4},\n",
        "                                 a1: {\"min\":0, \"max\":5, \"init\":2},\n",
        "                                 rmin: {\"min\":0, \"max\":1, \"init\":0.05},\n",
        "                                 sr: {\"min\":0, \"max\":1, \"init\":0.8},\n",
        "                                 pibar: {\"min\":0, \"max\":1, \"init\":0.3},\n",
        "                                 un: {\"min\":0, \"max\":1, \"init\":1}},\n",
        "                        freeze_initial=True\n",
        "                        )"
      ]
    },
    {
      "cell_type": "code",
      "execution_count": null,
      "id": "3f22db3c",
      "metadata": {
        "id": "3f22db3c"
      },
      "outputs": [],
      "source": [
        "#Cerramos figuras que pueden quedar abiertas en el caso interactivo\n",
        "plt.close('all')"
      ]
    },
    {
      "cell_type": "markdown",
      "id": "70970e8d",
      "metadata": {
        "id": "70970e8d"
      },
      "source": [
        "### 2.3.3. Cierre (3) con tasa de empleo constante"
      ]
    },
    {
      "cell_type": "code",
      "execution_count": null,
      "id": "73feaa39",
      "metadata": {
        "id": "73feaa39"
      },
      "outputs": [],
      "source": [
        "#Definimos tasa de empleo\n",
        "eq39=sp.Eq(e,L/N)\n",
        "eq39"
      ]
    },
    {
      "cell_type": "code",
      "execution_count": null,
      "id": "260da8f9",
      "metadata": {
        "id": "260da8f9"
      },
      "outputs": [],
      "source": [
        "#Reescribimos la tasa de variación de la oferta de trabajo\n",
        "eq40=sp.Eq(Nhat,n)\n",
        "eq40"
      ]
    },
    {
      "cell_type": "code",
      "execution_count": null,
      "id": "2e49372b",
      "metadata": {
        "id": "2e49372b"
      },
      "outputs": [],
      "source": [
        "#Reescribimos la tasa de empleo en función de K\n",
        "eq41=fam.solve_as_equalities(\n",
        "    [eq8,eq39],\n",
        "    [e,L]\n",
        ")[0][0]\n",
        "eq41"
      ]
    },
    {
      "cell_type": "code",
      "execution_count": null,
      "id": "8458ff2f",
      "metadata": {
        "id": "8458ff2f"
      },
      "outputs": [],
      "source": [
        "#Deducimos tasa de variación de e\n",
        "#Paso 1: log-diferenciamos eq41 y reemplazamos gorros por puntos excepto en K\n",
        "eq42a=fam.dot_to_hat(\n",
        "    fam.diff_ln_eq(eq41,t),\n",
        "    [e,N],t\n",
        ")\n",
        "eq42a"
      ]
    },
    {
      "cell_type": "code",
      "execution_count": null,
      "id": "8a4f0c46",
      "metadata": {
        "id": "8a4f0c46"
      },
      "outputs": [],
      "source": [
        "#Paso 2: reemplazamos Nhat por n y Kdot/K por g\n",
        "eq42=fam.solve_as_equalities(\n",
        "    [eq42a,eq17,eq40],\n",
        "    [ehat,Kdot,Nhat]\n",
        ")[0][0]\n",
        "eq42"
      ]
    },
    {
      "cell_type": "code",
      "execution_count": null,
      "id": "35292b84",
      "metadata": {
        "id": "35292b84"
      },
      "outputs": [],
      "source": [
        "#Asumimos equilibrio de estado estacionario ehat=0\n",
        "eq43=fam.solve_as_equalities(\n",
        "    [eq42,sp.Eq(ehat,0)],\n",
        "    [g,ehat]\n",
        ")[0][0]\n",
        "eq43"
      ]
    },
    {
      "cell_type": "code",
      "execution_count": null,
      "id": "ed5b4b0f",
      "metadata": {
        "id": "ed5b4b0f"
      },
      "outputs": [],
      "source": [
        "#Formulamos función de oferta de trabajo (versión lineal)\n",
        "eq44=sp.Eq(n,n0+n1*w)\n",
        "eq44"
      ]
    },
    {
      "cell_type": "code",
      "execution_count": null,
      "id": "63ca06f8",
      "metadata": {
        "id": "63ca06f8"
      },
      "outputs": [],
      "source": [
        "#Función de oferta de trabajo en términos de la tasa de ganancia\n",
        "eq45=fam.solve_as_equalities(\n",
        "    [eq44,eq10],\n",
        "    [n,w]\n",
        ")[0][0]\n",
        "eq45"
      ]
    },
    {
      "cell_type": "code",
      "execution_count": null,
      "id": "409a5cc6",
      "metadata": {
        "id": "409a5cc6"
      },
      "outputs": [],
      "source": [
        "#Determinación de la solución de equilibrio en cierre (3)\n",
        "solcierre3=fam.solve_as_equalities(\n",
        "    [eq10,eq19,eq22,eq25,eq43,eq45],\n",
        "    [r,g,n,w,c,cr]\n",
        ")[0]\n",
        "solcierre3"
      ]
    },
    {
      "cell_type": "code",
      "execution_count": null,
      "id": "3643d0ca",
      "metadata": {
        "id": "3643d0ca"
      },
      "outputs": [],
      "source": [
        "#Asignamos valores de equilibrio (LR)\n",
        "valeqLR={w:wLR, r:rLR, g:gLR, c:cLR, cr:crLR, n:nLR}\n",
        "eq46, eq47, eq48, eq49, eq50, eq51 = tuple(sol.subs(valeqLR) for sol in solcierre3)\n",
        "eq46, eq47, eq48, eq49, eq50, eq51"
      ]
    },
    {
      "cell_type": "code",
      "execution_count": null,
      "id": "65030345",
      "metadata": {
        "id": "65030345"
      },
      "outputs": [],
      "source": [
        "#Gráfica para ilustrar el cierre (3)\n",
        "eq45tr=fam.change_quad(eq=eq45,x_old=n,y_old=r,X=xx,Y=yy,quad=\"TR\") #Indico que eq45 va en el eje superior derecho (TR)\n",
        "eq46tr=eq46.subs({rLR:yy}) #Defino eje de eq46\n",
        "eq47tr=eq47.subs({gLR:xx}) #Defino eje de eq47\n",
        "eq49tr=eq49.subs({wLR:-xx}) #Defino eje de eq49\n",
        "eq50tr=eq50.subs({cLR:-yy}) #Defino eje de eq50\n",
        "eq49trh=eq49.subs({wLR:-yy}) #Defino eje de eq49 de forma horizontal (cw=wLR)\n",
        "\n",
        "#Genero la gráfica con las ecuaciones transformadas\n",
        "fam.plot_from_eq_list(eqs=[eq10tr,eq25tr,eq19tr,eq20tr,eq45tr],\n",
        "                        x_sym=xx,y_sym=yy,\n",
        "                        colors=[\"blue\",\"purple\",\"green\",\"orange\",\"red\"],\n",
        "                        shared_params={a0:4,a1:2,rmin:0.05,sr:0.8,un:1,n0:0.02,n1:0.5},\n",
        "                        show_legend=True,\n",
        "                        labels=[f\"${sp.latex(eq10)}$\",\n",
        "                                f\"${sp.latex(eq25)}$\",\n",
        "                                f\"${sp.latex(eq19)}$\",\n",
        "                                f\"${sp.latex(eq20)}$\",\n",
        "                                f\"${sp.latex(eq45)}$\"],\n",
        "                        vertical_eq=[sp.Eq(xx,0),eq47tr,eq49tr],\n",
        "                        vline_style=[\"-\",\"--\",\"--\"],\n",
        "                        vline_color=[\"black\",\"red\",\"gray\"],\n",
        "                        horizontal_eq=[sp.Eq(yy,0),eq46tr,eq50tr,eq49trh],\n",
        "                        hline_style=[\"-\",\"--\",\"--\",\"--\"],\n",
        "                        hline_color=[\"black\",\"gray\",\"gray\",\"gray\"],\n",
        "                        x_range=(-0.6,0.6),\n",
        "                        xlim=(-0.6,0.6),\n",
        "                        ylim=(-0.6,0.7),\n",
        "                        interactive=True,\n",
        "                        tam_fig=(10,5),\n",
        "                        sliders={a0: {\"min\":0, \"max\":5, \"init\":4},\n",
        "                                 a1: {\"min\":0, \"max\":5, \"init\":2},\n",
        "                                 rmin: {\"min\":0, \"max\":1, \"init\":0.05},\n",
        "                                 sr: {\"min\":0, \"max\":1, \"init\":0.8},\n",
        "                                 n0: {\"min\":0, \"max\":0.05, \"init\":0.02},\n",
        "                                 n1: {\"min\":0, \"max\":1, \"init\":0.5},\n",
        "                                 un: {\"min\":0, \"max\":1, \"init\":1}},\n",
        "                        freeze_initial=True\n",
        "                        )"
      ]
    },
    {
      "cell_type": "code",
      "execution_count": null,
      "id": "5c2f38ab",
      "metadata": {
        "id": "5c2f38ab"
      },
      "outputs": [],
      "source": [
        "#Cerramos figuras\n",
        "plt.close('all')"
      ]
    },
    {
      "cell_type": "code",
      "execution_count": null,
      "id": "10c88d87",
      "metadata": {
        "id": "10c88d87"
      },
      "outputs": [],
      "source": [
        "#Definimos ecuación dinámica que vincula a what y ehat\n",
        "eq52=sp.Eq(what,varphi(ehat))\n",
        "eq52"
      ]
    },
    {
      "cell_type": "code",
      "execution_count": null,
      "id": "97b587fb",
      "metadata": {
        "id": "97b587fb"
      },
      "outputs": [],
      "source": [
        "#Reescribiendo ecuación dinámica de what en términos de g-n\n",
        "eq53=fam.solve_as_equalities(\n",
        "    [eq52,eq42],\n",
        "    [what,ehat]\n",
        ")[0][0]\n",
        "eq53"
      ]
    },
    {
      "cell_type": "code",
      "execution_count": null,
      "id": "3214cbc3",
      "metadata": {
        "id": "3214cbc3"
      },
      "outputs": [],
      "source": [
        "#Tasa de acumulación en función del salario real g(w)\n",
        "eq54=fam.solve_as_equalities(\n",
        "    [eq10,eq25],\n",
        "    [g,r]\n",
        ")[0][0]\n",
        "eq54"
      ]
    },
    {
      "cell_type": "code",
      "execution_count": null,
      "id": "7c6ca357",
      "metadata": {
        "id": "7c6ca357"
      },
      "outputs": [],
      "source": [
        "#Gráfico que compara a g y n en términos de w\n",
        "eq44tr=fam.change_quad(eq=eq44,x_old=w,y_old=n,X=xx,Y=yy,quad=\"TR\") #Indico que eq44 va en el eje superior derecho (TR)\n",
        "eq54tr=fam.change_quad(eq=eq54,x_old=w,y_old=g,X=xx,Y=yy,quad=\"TR\") #Indico que eq54 va en el eje superior derecho (TR)\n",
        "eq49tr=eq49.subs({wLR:xx}) #Defino eje de eq49\n",
        "eq47tr=eq47.subs({gLR:yy}) #Defino eje de eq47\n",
        "\n",
        "#Genero la gráfica con las ecuaciones transformadas\n",
        "fam.plot_from_eq_list(eqs=[eq44tr,eq54tr],\n",
        "                        x_sym=xx,y_sym=yy,\n",
        "                        colors=[\"red\",\"purple\"],\n",
        "                        shared_params={a0:4,a1:2,rmin:0.05,sr:0.8,un:1,n0:0.02,n1:0.5},\n",
        "                        show_legend=True,\n",
        "                        labels=[f\"${sp.latex(eq44)}$\",\n",
        "                                f\"${sp.latex(eq54)}$\"],\n",
        "                        vertical_eq=[sp.Eq(xx,0),eq49tr],\n",
        "                        vline_style=[\"-\",\"--\"],\n",
        "                        vline_color=[\"black\",\"gray\"],\n",
        "                        horizontal_eq=[sp.Eq(yy,0),eq47tr],\n",
        "                        hline_style=[\"-\",\"--\"],\n",
        "                        hline_color=[\"black\",\"gray\"],\n",
        "                        label_x=\"w\", label_y=\"g, n\",\n",
        "                        x_range=(-0,0.3),\n",
        "                        xlim=(-0,0.3),\n",
        "                        ylim=(-0,0.4),\n",
        "                        interactive=True,\n",
        "                        tam_fig=(10,5),\n",
        "                        sliders={a0: {\"min\":0, \"max\":5, \"init\":4},\n",
        "                                 a1: {\"min\":0, \"max\":5, \"init\":2},\n",
        "                                 rmin: {\"min\":0, \"max\":1, \"init\":0.05},\n",
        "                                 sr: {\"min\":0, \"max\":1, \"init\":0.8},\n",
        "                                 n0: {\"min\":0, \"max\":0.05, \"init\":0.02},\n",
        "                                 n1: {\"min\":0, \"max\":1, \"init\":0.5},\n",
        "                                 un: {\"min\":0, \"max\":1, \"init\":1}},\n",
        "                        freeze_initial=True\n",
        "                        )"
      ]
    },
    {
      "cell_type": "code",
      "execution_count": null,
      "id": "b6cb8df8",
      "metadata": {
        "id": "b6cb8df8"
      },
      "outputs": [],
      "source": [
        "#Cerramos figuras\n",
        "plt.close('all')"
      ]
    },
    {
      "cell_type": "code",
      "execution_count": null,
      "id": "b4b25973",
      "metadata": {
        "id": "b4b25973"
      },
      "outputs": [],
      "source": [
        "#Obteniendo una ecuación diferencial en términos de what y w\n",
        "eq55=fam.solve_as_equalities(\n",
        "    [eq44,eq53,eq54],\n",
        "    [what,g,n,r]\n",
        ")[0][0]\n",
        "eq55"
      ]
    },
    {
      "cell_type": "code",
      "execution_count": null,
      "id": "443f217e",
      "metadata": {
        "id": "443f217e"
      },
      "outputs": [],
      "source": [
        "#Derivada de la ecuación diferencial en w\n",
        "eq56=sp.diff(eq55.rhs,w)\n",
        "eq56"
      ]
    },
    {
      "cell_type": "code",
      "execution_count": null,
      "id": "712a635c",
      "metadata": {
        "id": "712a635c"
      },
      "outputs": [],
      "source": [
        "#Asumiendo una versión básica de la ecuación diferencial\n",
        "eq57=sp.Eq(what,varphi0*ehat)\n",
        "eq57"
      ]
    },
    {
      "cell_type": "code",
      "execution_count": null,
      "id": "66c8207a",
      "metadata": {
        "id": "66c8207a"
      },
      "outputs": [],
      "source": [
        "#Reescibiendo la ecuación básica como wdot en términos de w\n",
        "#Paso 1: reemplazo eq42, eq44,eq54,eq57\n",
        "eq58a=fam.solve_as_equalities(\n",
        "    [eq42,eq44,eq54,eq57],\n",
        "    [what,ehat,g,n]\n",
        ")[0][0]\n",
        "eq58a"
      ]
    },
    {
      "cell_type": "code",
      "execution_count": null,
      "id": "b07008fe",
      "metadata": {
        "id": "b07008fe"
      },
      "outputs": [],
      "source": [
        "#Paso 2: paso de gorros a puntos\n",
        "eq58=fam.hat_to_dot(\n",
        "    eq58a,\n",
        "    [w],t\n",
        ")\n",
        "eq58"
      ]
    },
    {
      "cell_type": "code",
      "execution_count": null,
      "id": "1f739416",
      "metadata": {
        "id": "1f739416"
      },
      "outputs": [],
      "source": [
        "#Genero la gráfica de what en función de w\n",
        "fam.plot_from_eq_list(eqs=[eq58],\n",
        "                        x_sym=w,y_sym=wdot,\n",
        "                        colors=[\"blue\"],\n",
        "                        shared_params={a0:4,a1:2,rmin:0.05,sr:0.8,un:1,n0:0.02,n1:0.5,varphi0:1},\n",
        "                        show_legend=True,\n",
        "                        labels=[f\"${sp.latex(eq58)}$\"],\n",
        "                        vertical_eq=[sp.Eq(w,0),sp.Eq(w,eq49.rhs)],\n",
        "                        vline_style=[\"-\",\"--\"],\n",
        "                        vline_color=[\"black\",\"gray\"],\n",
        "                        horizontal_eq=[sp.Eq(wdot,0)],\n",
        "                        hline_style=[\"-\"],\n",
        "                        hline_color=[\"red\"],\n",
        "                        horizontal_labels=[r\"Equilibrio $\\dot{w}$=0\"],\n",
        "                        label_x=\"w\", label_y=r\"$\\dot{w}$\",\n",
        "                        x_range=(-0,0.3),\n",
        "                        xlim=(-0,0.3),\n",
        "                        ylim=(-0.05,0.05),\n",
        "                        interactive=True,\n",
        "                        tam_fig=(13,5),\n",
        "                        title=\"Identificación del equilibrio del modelo clásico-Marxista (cierre distributivo 3)\",\n",
        "                        sliders={a0: {\"min\":0, \"max\":5, \"init\":4},\n",
        "                                 a1: {\"min\":0, \"max\":5, \"init\":2},\n",
        "                                 rmin: {\"min\":0, \"max\":1, \"init\":0.05},\n",
        "                                 sr: {\"min\":0, \"max\":1, \"init\":0.8},\n",
        "                                 n0: {\"min\":0, \"max\":0.05, \"init\":0.02},\n",
        "                                 n1: {\"min\":0, \"max\":1, \"init\":0.5},\n",
        "                                 un: {\"min\":0, \"max\":1, \"init\":1},\n",
        "                                 varphi0: {\"min\":0, \"max\":2, \"init\":1}},\n",
        "                        freeze_initial=True\n",
        "                        )"
      ]
    },
    {
      "cell_type": "code",
      "execution_count": null,
      "id": "1c27d318",
      "metadata": {
        "id": "1c27d318"
      },
      "outputs": [],
      "source": [
        "#Cerramos figuras\n",
        "plt.close('all')"
      ]
    },
    {
      "cell_type": "code",
      "execution_count": null,
      "id": "7b304506",
      "metadata": {
        "id": "7b304506"
      },
      "outputs": [],
      "source": [
        "#Gráfica del campo de direcciones\n",
        "fam.plot_slope_field(ode=eq58,\n",
        "                t_sym=t,\n",
        "                y_sym=w,\n",
        "                shared_params={a0:4,a1:2,rmin:0.05,sr:0.8,un:1,n0:0.02,n1:0.5,varphi0:1},\n",
        "                t_range=(0,20),y_range=(0,0.25),\n",
        "                xlim=(-0.5,20),ylim=(0,0.25),\n",
        "                label_y=\"w\",\n",
        "                seg_len=0.5,arrows=True,\n",
        "                solutions=[{\"y0\":0.2,\"color\":\"blue\",\"t_span\":(0,30)},\n",
        "                            {\"y0\":0.1,\"color\":\"blue\",\"t_span\":(0,30)}],\n",
        "                cmap=\"viridis\", title=\"Campo de direcciones del modelo clásico-Marxista (cierre distributivo 3)\",\n",
        "                interactive=True,\n",
        "                sliders={a0: {\"min\":0, \"max\":5, \"init\":4},\n",
        "                                 a1: {\"min\":0, \"max\":5, \"init\":2},\n",
        "                                 rmin: {\"min\":0, \"max\":1, \"init\":0.05},\n",
        "                                 sr: {\"min\":0, \"max\":1, \"init\":0.8},\n",
        "                                 n0: {\"min\":0, \"max\":0.05, \"init\":0.02},\n",
        "                                 n1: {\"min\":0, \"max\":1, \"init\":0.5},\n",
        "                                 un: {\"min\":0, \"max\":1, \"init\":1},\n",
        "                                 varphi0: {\"min\":0, \"max\":2, \"init\":1}}\n",
        "                )"
      ]
    },
    {
      "cell_type": "code",
      "execution_count": null,
      "id": "7332cd36",
      "metadata": {
        "id": "7332cd36"
      },
      "outputs": [],
      "source": [
        "#Cerramos figuras\n",
        "plt.close('all')"
      ]
    },
    {
      "cell_type": "code",
      "execution_count": null,
      "id": "e4cb73fe",
      "metadata": {
        "id": "e4cb73fe"
      },
      "outputs": [],
      "source": [
        "#Deducción de la \"ecuación de Cambridge\" y de la tasa de crecimiento cuando n1=0 y rmin=0\n",
        "eq59=eq46.subs({n1:0,rmin:0})\n",
        "eq60=eq47.subs({n1:0,rmin:0})\n",
        "eq59, eq60"
      ]
    },
    {
      "cell_type": "markdown",
      "id": "40db8fd4",
      "metadata": {
        "id": "40db8fd4"
      },
      "source": [
        "### 2.3.4. Cierre (4) con tasa de ganancia exógena"
      ]
    },
    {
      "cell_type": "code",
      "execution_count": null,
      "id": "5c69014e",
      "metadata": {
        "id": "5c69014e"
      },
      "outputs": [],
      "source": [
        "#Cierre con tasa de ganancia definida por mercados financieros\n",
        "eq61=sp.Eq(r,i+lambda0)\n",
        "eq61"
      ]
    },
    {
      "cell_type": "code",
      "execution_count": null,
      "id": "ef02afc5",
      "metadata": {
        "id": "ef02afc5"
      },
      "outputs": [],
      "source": [
        "#Determinación de la solución de equilibrio en cierre (4)\n",
        "solcierre4=fam.solve_as_equalities(\n",
        "    [eq10,eq19,eq22,eq25,eq61],\n",
        "    [r,w,g,c,cr]\n",
        ")[0]\n",
        "solcierre4"
      ]
    },
    {
      "cell_type": "code",
      "execution_count": null,
      "id": "a3c245f0",
      "metadata": {
        "id": "a3c245f0"
      },
      "outputs": [],
      "source": [
        "#Asignamos valores de equilibrio (star)\n",
        "eq62, eq63, eq64, eq65, eq66 = tuple(sol.subs(valeq) for sol in solcierre4)\n",
        "eq62, eq63, eq64, eq65, eq66"
      ]
    },
    {
      "cell_type": "code",
      "execution_count": null,
      "id": "699dda92",
      "metadata": {
        "id": "699dda92"
      },
      "outputs": [],
      "source": [
        "#Gráfica para ilustrar el cierre (4)\n",
        "eq62tr=eq62.subs({rstar:yy}) #Defino eje de eq69\n",
        "eq63tr=eq63.subs({wstar:-xx}) #Defino eje de eq70\n",
        "eq64tr=eq64.subs({gstar:xx}) #Defino eje de eq71\n",
        "eq65tr=eq65.subs({cstar:-yy}) #Defino eje de eq72\n",
        "eq63trh=eq63.subs({wstar:-yy}) #Defino eq70 de forma horizontal (cw=wbar)\n",
        "\n",
        "#Genero la gráfica con las ecuaciones transformadas\n",
        "fam.plot_from_eq_list(eqs=[eq10tr,eq25tr,eq19tr,eq20tr],\n",
        "                        x_sym=xx,y_sym=yy,\n",
        "                        colors=[\"blue\",\"purple\",\"green\",\"orange\"],\n",
        "                        shared_params={a0:4,a1:2,rmin:0.05,sr:0.8,un:1,lambda0:0.05,i:0.05},\n",
        "                        show_legend=True,\n",
        "                        labels=[f\"${sp.latex(eq10)}$\",\n",
        "                                f\"${sp.latex(eq25)}$\",\n",
        "                                f\"${sp.latex(eq19)}$\",\n",
        "                                f\"${sp.latex(eq20)}$\"],\n",
        "                        vertical_eq=[sp.Eq(xx,0),eq63tr,eq64tr],\n",
        "                        vline_style=[\"-\",\"--\",\"--\"],\n",
        "                        vline_color=[\"black\",\"gray\",\"gray\"],\n",
        "                        horizontal_eq=[sp.Eq(yy,0),eq62tr,eq65tr,eq63trh],\n",
        "                        hline_style=[\"-\",\"--\",\"--\",\"--\"],\n",
        "                        hline_color=[\"black\",\"red\",\"gray\",\"gray\"],\n",
        "                        x_range=(-0.6,0.6),\n",
        "                        xlim=(-0.6,0.6),\n",
        "                        ylim=(-0.6,0.6),\n",
        "                        interactive=True,\n",
        "                        tam_fig=(10,5),\n",
        "                        sliders={a0: {\"min\":0, \"max\":5, \"init\":4},\n",
        "                                 a1: {\"min\":0, \"max\":5, \"init\":2},\n",
        "                                 rmin: {\"min\":0, \"max\":1, \"init\":0.05},\n",
        "                                 sr: {\"min\":0, \"max\":1, \"init\":0.8},\n",
        "                                 un: {\"min\":0, \"max\":1, \"init\":1},\n",
        "                                 lambda0: {\"min\":0, \"max\":0.1, \"init\":0.05},\n",
        "                                 i: {\"min\":0, \"max\":0.1, \"init\":0.05}},\n",
        "                        freeze_initial=True\n",
        "                        )"
      ]
    },
    {
      "cell_type": "code",
      "execution_count": null,
      "id": "002ad7fd",
      "metadata": {
        "id": "002ad7fd"
      },
      "outputs": [],
      "source": [
        "#Cerramos figuras que pueden quedar abiertas en el caso interactivo\n",
        "plt.close('all')"
      ]
    },
    {
      "cell_type": "markdown",
      "id": "ec017414",
      "metadata": {
        "id": "ec017414"
      },
      "source": [
        "## 2.4. Cambio técnico"
      ]
    },
    {
      "cell_type": "markdown",
      "id": "37c37e7c",
      "metadata": {
        "id": "37c37e7c"
      },
      "source": [
        "### 2.4.1. Algunos tipos de cambio técnico"
      ]
    },
    {
      "cell_type": "code",
      "execution_count": null,
      "id": "e1eeae1f",
      "metadata": {
        "id": "e1eeae1f"
      },
      "outputs": [],
      "source": [
        "#Definimos términos útiles para analizar el cambio técnico\n",
        "QL = sp.Function(r'Q_L')(t) #Productividad del trabajo\n",
        "QLhat = sp.Function(r'\\hat{Q_L}')(t) #Tasa de crecimiento de la productividad del trabajo\n",
        "QK = sp.Function(r'Q_K')(t) #Productividad del capital\n",
        "QKhat = sp.Function(r'\\hat{Q_K}')(t) #Tasa de crecimiento de la productividad del capital\n",
        "khat = sp.Function(r'\\hat{Q}')(t) #Tasa de crecimiento de la intensidad de capital efectivo"
      ]
    },
    {
      "cell_type": "code",
      "execution_count": null,
      "id": "a1ff88ad",
      "metadata": {
        "id": "a1ff88ad"
      },
      "outputs": [],
      "source": [
        "#Definición de QL y QK\n",
        "eq67=sp.Eq(QL,Y/L)\n",
        "eq68=sp.Eq(QK,Y/(u*K))\n",
        "eq67,eq68"
      ]
    },
    {
      "cell_type": "code",
      "execution_count": null,
      "id": "d3e45bc3",
      "metadata": {
        "id": "d3e45bc3"
      },
      "outputs": [],
      "source": [
        "#Reescribiendo en términos de a0 y a1\n",
        "eq69,eq70=tuple(fam.solve_as_equalities(\n",
        "    [eq3,eq4,eq5,eq67,eq68],\n",
        "    [QL,QK,L,K,YK]\n",
        ")[0][0:2])\n",
        "eq69,eq70"
      ]
    },
    {
      "cell_type": "code",
      "execution_count": null,
      "id": "9d88699d",
      "metadata": {
        "id": "9d88699d"
      },
      "outputs": [],
      "source": [
        "#Vínculo entre k, QL y QK\n",
        "eq71=fam.solve_as_equalities(\n",
        "    [eq11,eq67,eq68],\n",
        "    [k,L,K]\n",
        ")[0][0]\n",
        "eq71"
      ]
    },
    {
      "cell_type": "code",
      "execution_count": null,
      "id": "fa244f1b",
      "metadata": {
        "id": "fa244f1b"
      },
      "outputs": [],
      "source": [
        "#Vínculo entre khat, QLhat y QKhat\n",
        "eq72=fam.dot_to_hat(\n",
        "    fam.diff_ln_eq(eq71,t),\n",
        "    [k,QL,QK],t\n",
        ")\n",
        "eq72"
      ]
    },
    {
      "cell_type": "code",
      "execution_count": null,
      "id": "77f4e2a4",
      "metadata": {
        "id": "77f4e2a4"
      },
      "outputs": [],
      "source": [
        "#Reescribiendo relación inversa salario-ganancia\n",
        "eq10a=fam.solve_as_equalities(\n",
        "    [eq6,eq10,eq12,eq69],\n",
        "    [w,u,a1,a0]\n",
        ")[0][0]\n",
        "eq10a"
      ]
    },
    {
      "cell_type": "code",
      "execution_count": null,
      "id": "e4a51c12",
      "metadata": {
        "id": "e4a51c12"
      },
      "outputs": [],
      "source": [
        "#Gráfica de la relación inversa salario real-tasa de ganancia\n",
        "fam.plot_from_eq_list(eqs=[eq10a],\n",
        "                        x_sym=r,y_sym=w,\n",
        "                        colors=[\"red\"],\n",
        "                        shared_params={QL:0.25,k:0.5,un:1},\n",
        "                        x_range=(0,0.6),\n",
        "                        xlim=(0,0.6),\n",
        "                        ylim=(0,0.3),\n",
        "                        show_legend=True,\n",
        "                        labels=[f\"${sp.latex(eq10a)}$\"],\n",
        "                        title=\"Relación inversa salario real-tasa de ganancia (asumiendo capacidad plena)\",\n",
        "                        label_x=\"Tasa de ganancia: r\", label_y=\"Salario real: w\",\n",
        "                        interactive=True,\n",
        "                        sliders={QL: {\"min\":0, \"max\":1, \"init\":0.25},\n",
        "                                 k: {\"min\":0, \"max\":1, \"init\":0.5},\n",
        "                                 un: {\"min\":0, \"max\":1, \"init\":1}},\n",
        "                        freeze_initial=True\n",
        "                        )"
      ]
    },
    {
      "cell_type": "code",
      "execution_count": null,
      "id": "be26ef85",
      "metadata": {
        "id": "be26ef85"
      },
      "outputs": [],
      "source": [
        "#Cerramos figuras\n",
        "plt.close('all')"
      ]
    },
    {
      "cell_type": "markdown",
      "id": "9a4b6fd2",
      "metadata": {
        "id": "9a4b6fd2"
      },
      "source": [
        "### 2.4.2. Cambios técnicos neutros y cierres distributivos"
      ]
    },
    {
      "cell_type": "markdown",
      "id": "1794f97d",
      "metadata": {
        "id": "1794f97d"
      },
      "source": [
        "Cambios técnicos neutros y cierre (1) con salario real exógeno"
      ]
    },
    {
      "cell_type": "code",
      "execution_count": null,
      "id": "7d8f98c8",
      "metadata": {
        "id": "7d8f98c8"
      },
      "outputs": [],
      "source": [
        "#Paso 0: Parámetros de referencia para cierre 1\n",
        "prefcierre1={a0:4,a1:2,un:1,rmin:0.05,sr:0.8,wbar:0.1,k:0.5}\n",
        "\n",
        "#Paso 1: Soluciones del cierre 1 incluyendo participación capitalista pi\n",
        "solcierre1pi=fam.solve_as_equalities(\n",
        "    solcierre1+[eq14],\n",
        "    [w,r,g,c,cr,pi]\n",
        ")[0]\n",
        "\n",
        "#Paso 2: Negativa de las derivadas de soluciones de cierre 1 con respecto a a0 (a1 constante)\n",
        "dc1dna0=[sp.diff(-sol.rhs,a0) for sol in solcierre1pi]\n",
        "\n",
        "#Paso 3: Evaluación numérica de las derivadas (negativas) del paso anterior para verificar signos\n",
        "dc1dna0n=[sp.diff(-sol.rhs,a0).subs(prefcierre1) for sol in solcierre1pi]\n",
        "\n",
        "#Paso 4: Negativa de las derivadas de soluciones de cierre 1 con respecto a a1 (a0 constante)\n",
        "dc1dna1=[sp.diff(-sol.rhs,a1) for sol in solcierre1pi]\n",
        "\n",
        "#Paso 5: Evaluación numérica de las derivadas (negativas) del paso anterior para verificar signos\n",
        "dc1dna1n=[sp.diff(-sol.rhs,a1).subs(prefcierre1) for sol in solcierre1pi]\n",
        "\n",
        "#Paso 6: Rescribiendo las soluciones del cierre 1 en términos de a0 y k\n",
        "solcierre1pik=fam.solve_as_equalities(\n",
        "    solcierre1pi+[eq12],\n",
        "    [w,r,g,c,cr,pi,a1]\n",
        ")[0][0:6]\n",
        "\n",
        "#Paso 7: Negativa de las derivadas de soluciones de cierre 1 con respecto a a0 (k constante)\n",
        "dc1dna0k=[sp.diff(-sol.rhs,a0) for sol in solcierre1pik]\n",
        "\n",
        "#Paso 8: Evaluación numérica de las derivadas (negativas) del paso anterior para verificar signos\n",
        "dc1dna0kn=[sp.diff(-sol.rhs,a0).subs(prefcierre1) for sol in solcierre1pik]"
      ]
    },
    {
      "cell_type": "code",
      "execution_count": null,
      "id": "071e532e",
      "metadata": {
        "id": "071e532e"
      },
      "outputs": [],
      "source": [
        "#Negativo de derivadas de soluciones del cierre 1\n",
        "dc1dna0, dc1dna1, dc1dna0k"
      ]
    },
    {
      "cell_type": "code",
      "execution_count": null,
      "id": "d11504cd",
      "metadata": {
        "id": "d11504cd"
      },
      "outputs": [],
      "source": [
        "#Signos del negativo de las derivadas del cierre 1\n",
        "[np.sign(j).tolist() for j in [dc1dna0n, dc1dna1n, dc1dna0kn]]"
      ]
    },
    {
      "cell_type": "markdown",
      "id": "2364e9d9",
      "metadata": {
        "id": "2364e9d9"
      },
      "source": [
        "Cambios técnicos neutros y cierre 2 con participación salarial exógena"
      ]
    },
    {
      "cell_type": "code",
      "execution_count": null,
      "id": "07e0caab",
      "metadata": {
        "id": "07e0caab"
      },
      "outputs": [],
      "source": [
        "#Paso 0: Parámetros de referencia para cierre 2\n",
        "prefcierre2={a0:4,a1:2,rmin:0.05,sr:0.8,un:1,pibar:0.3,k:0.5}\n",
        "\n",
        "#Paso 1: Soluciones del cierre 2 incluyendo participación capitalista pi\n",
        "solcierre2pi=fam.solve_as_equalities(\n",
        "    solcierre2+[eq14],\n",
        "    [w,r,g,c,cr,pi]\n",
        ")[0]\n",
        "\n",
        "#Paso 2: Negativa de las derivadas de soluciones de cierre 2 con respecto a a0 (a1 constante)\n",
        "dc2dna0=[sp.diff(-sol.rhs,a0) for sol in solcierre2pi]\n",
        "\n",
        "#Paso 3: Evaluación numérica de las derivadas (negativas) del paso anterior para verificar signos\n",
        "dc2dna0n=[sp.diff(-sol.rhs,a0).subs(prefcierre2) for sol in solcierre2pi]\n",
        "\n",
        "#Paso 4: Negativa de las derivadas de soluciones de cierre 2 con respecto a a1 (a0 constante)\n",
        "dc2dna1=[sp.diff(-sol.rhs,a1) for sol in solcierre2pi]\n",
        "\n",
        "#Paso 5: Evaluación numérica de las derivadas (negativas) del paso anterior para verificar signos\n",
        "dc2dna1n=[sp.diff(-sol.rhs,a1).subs(prefcierre2) for sol in solcierre2pi]\n",
        "\n",
        "#Paso 6: Rescribiendo las soluciones del cierre 2 en términos de a0 y k\n",
        "solcierre2pik=fam.solve_as_equalities(\n",
        "    solcierre2pi+[eq12],\n",
        "    [w,r,g,c,cr,pi,a1]\n",
        ")[0][0:6]\n",
        "\n",
        "#Paso 7: Negativa de las derivadas de soluciones de cierre 2 con respecto a a0 (k constante)\n",
        "dc2dna0k=[sp.diff(-sol.rhs,a0) for sol in solcierre2pik]\n",
        "\n",
        "#Paso 8: Evaluación numérica de las derivadas (negativas) del paso anterior para verificar signos\n",
        "dc2dna0kn=[sp.diff(-sol.rhs,a0).subs(prefcierre2) for sol in solcierre2pik]"
      ]
    },
    {
      "cell_type": "code",
      "execution_count": null,
      "id": "d39bb476",
      "metadata": {
        "id": "d39bb476"
      },
      "outputs": [],
      "source": [
        "#Negativo de derivadas de soluciones del cierre 2\n",
        "dc2dna0, dc2dna1, dc2dna0k"
      ]
    },
    {
      "cell_type": "code",
      "execution_count": null,
      "id": "a661b62e",
      "metadata": {
        "id": "a661b62e"
      },
      "outputs": [],
      "source": [
        "#Signos del negativo de las derivadas del cierre 2\n",
        "[np.sign(j).tolist() for j in [dc2dna0n, dc2dna1n, dc2dna0kn]]"
      ]
    },
    {
      "cell_type": "markdown",
      "id": "fa9250b5",
      "metadata": {
        "id": "fa9250b5"
      },
      "source": [
        "Cambios técnicos neutros y cierre (3) con tasa de empleo constante (equilibrio a largo plazo)"
      ]
    },
    {
      "cell_type": "code",
      "execution_count": null,
      "id": "ffb5d803",
      "metadata": {
        "id": "ffb5d803"
      },
      "outputs": [],
      "source": [
        "#Paso 0: Parámetros de referencia para cierre 3\n",
        "prefcierre3={a0:4,a1:2,rmin:0.05,sr:0.8,un:1,n0:0.02,n1:0.5,k:0.5}\n",
        "\n",
        "#Paso 1: Soluciones del cierre 3 incluyendo participación capitalista pi\n",
        "solcierre3pi=fam.solve_as_equalities(\n",
        "    solcierre3+[eq14],\n",
        "    [r,g,n,w,c,cr,pi]\n",
        ")[0]\n",
        "\n",
        "#Paso 2: Negativa de las derivadas de soluciones de cierre 3 con respecto a a0 (a1 constante)\n",
        "dc3dna0=[sp.diff(-sol.rhs,a0) for sol in solcierre3pi]\n",
        "\n",
        "#Paso 3: Evaluación numérica de las derivadas (negativas) del paso anterior para verificar signos\n",
        "dc3dna0n=[sp.diff(-sol.rhs,a0).subs(prefcierre3) for sol in solcierre3pi]\n",
        "\n",
        "#Paso 4: Negativa de las derivadas de soluciones de cierre 3 con respecto a a1 (a0 constante)\n",
        "dc3dna1=[sp.diff(-sol.rhs,a1) for sol in solcierre3pi]\n",
        "\n",
        "#Paso 5: Evaluación numérica de las derivadas (negativas) del paso anterior para verificar signos\n",
        "dc3dna1n=[sp.diff(-sol.rhs,a1).subs(prefcierre3) for sol in solcierre3pi]\n",
        "\n",
        "#Paso 6: Rescribiendo las soluciones del cierre 3 en términos de a0 y k\n",
        "solcierre3pik=fam.solve_as_equalities(\n",
        "    solcierre3pi+[eq12],\n",
        "    [r,g,n,w,c,cr,pi,a1]\n",
        ")[0][0:7]\n",
        "\n",
        "#Paso 7: Negativa de las derivadas de soluciones de cierre 3 con respecto a a0 (k constante)\n",
        "dc3dna0k=[sp.diff(-sol.rhs,a0) for sol in solcierre3pik]\n",
        "\n",
        "#Paso 8: Evaluación numérica de las derivadas (negativas) del paso anterior para verificar signos\n",
        "dc3dna0kn=[sp.diff(-sol.rhs,a0).subs(prefcierre3) for sol in solcierre3pik]"
      ]
    },
    {
      "cell_type": "code",
      "execution_count": null,
      "id": "d47cf1f4",
      "metadata": {
        "id": "d47cf1f4"
      },
      "outputs": [],
      "source": [
        "#Negativo de derivadas de soluciones del cierre 3\n",
        "dc3dna0, dc3dna1, dc3dna0k"
      ]
    },
    {
      "cell_type": "code",
      "execution_count": null,
      "id": "507a7d61",
      "metadata": {
        "id": "507a7d61"
      },
      "outputs": [],
      "source": [
        "#Signos del negativo de las derivadas del cierre 3\n",
        "[np.sign(j).tolist() for j in [dc3dna0n, dc3dna1n, dc3dna0kn]]"
      ]
    },
    {
      "cell_type": "markdown",
      "id": "f0c89272",
      "metadata": {
        "id": "f0c89272"
      },
      "source": [
        "Cambios técnicos neutros y cierre (4) con tasa de ganancia exógena"
      ]
    },
    {
      "cell_type": "code",
      "execution_count": null,
      "id": "d2736983",
      "metadata": {
        "id": "d2736983"
      },
      "outputs": [],
      "source": [
        "#Paso 0: Parámetros de referencia para cierre 4\n",
        "prefcierre4={a0:4,a1:2,rmin:0.05,sr:0.8,un:1,lambda0:0.05,i:0.05,k:0.5}\n",
        "\n",
        "#Paso 1: Soluciones del cierre 4 incluyendo participación capitalista pi\n",
        "solcierre4pi=fam.solve_as_equalities(\n",
        "    solcierre4+[eq14],\n",
        "    [r,w,g,c,cr,pi]\n",
        ")[0]\n",
        "\n",
        "#Paso 2: Negativa de las derivadas de soluciones de cierre 4 con respecto a a0 (a1 constante)\n",
        "dc4dna0=[sp.diff(-sol.rhs,a0) for sol in solcierre4pi]\n",
        "\n",
        "#Paso 3: Evaluación numérica de las derivadas (negativas) del paso anterior para verificar signos\n",
        "dc4dna0n=[sp.diff(-sol.rhs,a0).subs(prefcierre4) for sol in solcierre4pi]\n",
        "\n",
        "#Paso 4: Negativa de las derivadas de soluciones de cierre 4 con respecto a a1 (a0 constante)\n",
        "dc4dna1=[sp.diff(-sol.rhs,a1) for sol in solcierre4pi]\n",
        "\n",
        "#Paso 5: Evaluación numérica de las derivadas (negativas) del paso anterior para verificar signos\n",
        "dc4dna1n=[sp.diff(-sol.rhs,a1).subs(prefcierre4) for sol in solcierre4pi]\n",
        "\n",
        "#Paso 6: Rescribiendo las soluciones del cierre 4 en términos de a0 y k\n",
        "solcierre4pik=fam.solve_as_equalities(\n",
        "    solcierre4pi+[eq12],\n",
        "    [r,w,g,c,cr,pi,a1]\n",
        ")[0][0:6]\n",
        "\n",
        "#Paso 7: Negativa de las derivadas de soluciones de cierre 4 con respecto a a0 (k constante)\n",
        "dc4dna0k=[sp.diff(-sol.rhs,a0) for sol in solcierre4pik]\n",
        "\n",
        "#Paso 8: Evaluación numérica de las derivadas (negativas) del paso anterior para verificar signos\n",
        "dc4dna0kn=[sp.diff(-sol.rhs,a0).subs(prefcierre4) for sol in solcierre4pik]"
      ]
    },
    {
      "cell_type": "code",
      "execution_count": null,
      "id": "24a72549",
      "metadata": {
        "id": "24a72549"
      },
      "outputs": [],
      "source": [
        "#Negativo de derivadas de soluciones del cierre 4\n",
        "dc4dna0, dc4dna1, dc4dna0k"
      ]
    },
    {
      "cell_type": "code",
      "execution_count": null,
      "id": "cec4abf4",
      "metadata": {
        "id": "cec4abf4"
      },
      "outputs": [],
      "source": [
        "#Signos del negativo de las derivadas del cierre 4\n",
        "[np.sign(j).tolist() for j in [dc4dna0n, dc4dna1n, dc4dna0kn]]"
      ]
    },
    {
      "cell_type": "markdown",
      "id": "df222dd1",
      "metadata": {
        "id": "df222dd1"
      },
      "source": [
        "### 2.4.3. Implicaciones del cambio técnico sesgado a la Marx"
      ]
    },
    {
      "cell_type": "markdown",
      "id": "fda82019",
      "metadata": {
        "id": "fda82019"
      },
      "source": [
        "Cambio técnico sesgado a la Marx y cierre (1) con salario real exógeno"
      ]
    },
    {
      "cell_type": "code",
      "execution_count": null,
      "id": "185ef01a",
      "metadata": {
        "id": "185ef01a"
      },
      "outputs": [],
      "source": [
        "#Definiendo términos auxiliares\n",
        "Da0n = sp.Symbol(r'\\Delta a_0^{-}') #Variación de a0\n",
        "Da1p = sp.Symbol(r'\\Delta a_1^{+}') #Variación de a1\n",
        "Da1max = sp.Symbol(r'\\Delta a_1^{max}') #Valor máximo de Da1\n",
        "rstarMBTC = sp.Function(r'r_{MBTC}^*')(t) #Tasa de ganancia de equilibrio luego de aplicar el cambio técnico"
      ]
    },
    {
      "cell_type": "code",
      "execution_count": null,
      "id": "204842cd",
      "metadata": {
        "id": "204842cd"
      },
      "outputs": [],
      "source": [
        "#Tasa de ganancia de equilibrio aplicando cambio técnido sesgado a la Marx\n",
        "eq73=sp.Eq(rstarMBTC,eq28.rhs.subs({a0:a0-Da0n,a1:a1+Da1p}))\n",
        "eq73"
      ]
    },
    {
      "cell_type": "code",
      "execution_count": null,
      "id": "3642e531",
      "metadata": {
        "id": "3642e531"
      },
      "outputs": [],
      "source": [
        "#Identificando Da1 máximo\n",
        "#Paso 1: Restamos eq73 - eq28\n",
        "eq74a=sp.Eq(eq73.lhs-eq28.lhs,eq73.rhs-eq28.rhs)\n",
        "eq74a"
      ]
    },
    {
      "cell_type": "code",
      "execution_count": null,
      "id": "81fb246f",
      "metadata": {
        "id": "81fb246f"
      },
      "outputs": [],
      "source": [
        "#Paso 2: Resolvemos eq74a igualada a cero\n",
        "eq74=fam.solve_as_equalities(\n",
        "    [eq74a,sp.Eq(rstar-rstarMBTC,0),sp.Eq(Da1p,Da1max)],\n",
        "    [Da1max,Da1p,rstar]\n",
        ")[0][0]\n",
        "eq74"
      ]
    },
    {
      "cell_type": "code",
      "execution_count": null,
      "id": "515b3c7e",
      "metadata": {
        "id": "515b3c7e"
      },
      "outputs": [],
      "source": [
        "#Graficando la relación entre Da1max y Da0\n",
        "fam.plot_from_eq_list(eqs=[eq74],\n",
        "                        x_sym=Da0n,y_sym=Da1max,\n",
        "                        colors=[\"brown\"],\n",
        "                        shared_params={a0:4,a1:2,wbar:0.15},\n",
        "                        show_legend=True,\n",
        "                        labels=[f\"${sp.latex(eq74)}$\"],\n",
        "                        vertical_eq=[sp.Eq(Da0n,0)],\n",
        "                        vline_style=[\"-\"],\n",
        "                        vline_color=[\"black\"],\n",
        "                        horizontal_eq=[sp.Eq(Da1max,0)],\n",
        "                        hline_style=[\"-\"],\n",
        "                        hline_color=[\"black\"],\n",
        "                        label_x=r\"$\\Delta a_0^{-}$\",\n",
        "                        label_y=r\"$\\Delta a_1^{max}$\",\n",
        "                        x_range=(0,1),\n",
        "                        xlim=(0,1),\n",
        "                        ylim=(0,1),\n",
        "                        interactive=True,\n",
        "                        tam_fig=(10,5),\n",
        "                        sliders={a0: {\"min\":0, \"max\":5, \"init\":4},\n",
        "                                 a1: {\"min\":0, \"max\":5, \"init\":2},\n",
        "                                 wbar: {\"min\":0, \"max\":0.5, \"init\":0.15}},\n",
        "                        freeze_initial=True\n",
        "                        )"
      ]
    },
    {
      "cell_type": "code",
      "execution_count": null,
      "id": "d8b48c02",
      "metadata": {
        "id": "d8b48c02"
      },
      "outputs": [],
      "source": [
        "#Cerramos figuras\n",
        "plt.close('all')"
      ]
    },
    {
      "cell_type": "code",
      "execution_count": null,
      "id": "26da28aa",
      "metadata": {
        "id": "26da28aa"
      },
      "outputs": [],
      "source": [
        "#Genero la gráfica solo con cuadrantes superiores (distribución y acumulación)\n",
        "fam.plot_from_eq_list(eqs=[eq10tr,eq25tr],\n",
        "                        x_sym=xx,y_sym=yy,\n",
        "                        colors=[\"blue\",\"purple\"],\n",
        "                        shared_params={a0:4,a1:2,un:1,rmin:0.05,sr:0.8,wbar:0.15},\n",
        "                        show_legend=True,\n",
        "                        labels=[f\"${sp.latex(eq10)}$\",\n",
        "                                f\"${sp.latex(eq25)}$\"],\n",
        "                        vertical_eq=[sp.Eq(xx,0),eq27tr,eq29tr],\n",
        "                        vline_style=[\"-\",\"--\",\"--\"],\n",
        "                        vline_color=[\"black\",\"red\",\"gray\"],\n",
        "                        horizontal_eq=[sp.Eq(yy,0),eq28tr],\n",
        "                        hline_style=[\"-\",\"--\"],\n",
        "                        hline_color=[\"black\",\"gray\"],\n",
        "                        x_range=(-0.4,0.4),\n",
        "                        xlim=(-0.4,0.4),\n",
        "                        ylim=(0,0.52),\n",
        "                        interactive=True,\n",
        "                        tam_fig=(10,5),\n",
        "                        sliders={a0: {\"min\":0, \"max\":5, \"init\":4},\n",
        "                                 a1: {\"min\":0, \"max\":5, \"init\":2},\n",
        "                                 rmin: {\"min\":0, \"max\":1, \"init\":0.05},\n",
        "                                 sr: {\"min\":0, \"max\":1, \"init\":0.8},\n",
        "                                 wbar: {\"min\":0, \"max\":0.5, \"init\":0.15},\n",
        "                                 un: {\"min\":0, \"max\":1, \"init\":1}},\n",
        "                        freeze_initial=True\n",
        "                        )"
      ]
    },
    {
      "cell_type": "code",
      "execution_count": null,
      "id": "24024b10",
      "metadata": {
        "id": "24024b10"
      },
      "outputs": [],
      "source": [
        "#Cerramos figuras\n",
        "plt.close('all')"
      ]
    },
    {
      "cell_type": "markdown",
      "id": "5f89d688",
      "metadata": {
        "id": "5f89d688"
      },
      "source": [
        "Cambio técnico sesgado a la Marx y cierre (3) con tasa de empleo constante"
      ]
    },
    {
      "cell_type": "code",
      "execution_count": null,
      "id": "2de0ddb9",
      "metadata": {
        "id": "2de0ddb9"
      },
      "outputs": [],
      "source": [
        "#Definiendo términos auxiliares\n",
        "rLRMBTC = sp.Function(r'r_{MBTC}^{LR}')(t) #Tasa de ganancia de equilibrio luego de aplicar el cambio técnico"
      ]
    },
    {
      "cell_type": "code",
      "execution_count": null,
      "id": "7c564ac3",
      "metadata": {
        "id": "7c564ac3"
      },
      "outputs": [],
      "source": [
        "#Tasa de ganancia de equilibrio aplicando cambio técnido sesgado a la Marx\n",
        "eq75=sp.Eq(rLRMBTC,eq46.rhs.subs({a0:a0-Da0n,a1:a1+Da1p}))\n",
        "eq75"
      ]
    },
    {
      "cell_type": "code",
      "execution_count": null,
      "id": "a04268d0",
      "metadata": {
        "id": "a04268d0"
      },
      "outputs": [],
      "source": [
        "#Identificando Da1 máximo\n",
        "#Paso 1: Restamos eq75 - eq46\n",
        "eq76a=sp.Eq(eq75.lhs-eq46.lhs,eq75.rhs-eq46.rhs)\n",
        "eq76a"
      ]
    },
    {
      "cell_type": "code",
      "execution_count": null,
      "id": "afd4d003",
      "metadata": {
        "id": "afd4d003"
      },
      "outputs": [],
      "source": [
        "#Paso 2: Resolvemos eq76a igualada a cero\n",
        "eq76=fam.solve_as_equalities(\n",
        "    [eq76a,sp.Eq(rLR-rLRMBTC,0),sp.Eq(Da1p,Da1max)],\n",
        "    [Da1max,Da1p,rLR]\n",
        ")[0][0]\n",
        "eq76"
      ]
    },
    {
      "cell_type": "code",
      "execution_count": null,
      "id": "79b16154",
      "metadata": {
        "id": "79b16154"
      },
      "outputs": [],
      "source": [
        "#Verificamos que el resultado es equivalente al cierre 1 con wLR en vez de wbar\n",
        "eq77=fam.solve_as_equalities(\n",
        "    [eq76,eq49],\n",
        "    [Da1max,rmin]\n",
        ")[0][0]\n",
        "eq77"
      ]
    },
    {
      "cell_type": "code",
      "execution_count": null,
      "id": "96b2468d",
      "metadata": {
        "id": "96b2468d"
      },
      "outputs": [],
      "source": [
        "#Graficando la relación entre Da1max y Da0\n",
        "fam.plot_from_eq_list(eqs=[eq76],\n",
        "                        x_sym=Da0n,y_sym=Da1max,\n",
        "                        colors=[\"brown\"],\n",
        "                        shared_params={a0:4,a1:2,rmin:0.05,sr:0.8,un:1,n0:0.02,n1:0.67},\n",
        "                        show_legend=True,\n",
        "                        labels=[f\"${sp.latex(eq76)}$\"],\n",
        "                        vertical_eq=[sp.Eq(Da0n,0)],\n",
        "                        vline_style=[\"-\"],\n",
        "                        vline_color=[\"black\"],\n",
        "                        horizontal_eq=[sp.Eq(Da1max,0)],\n",
        "                        hline_style=[\"-\"],\n",
        "                        hline_color=[\"black\"],\n",
        "                        label_x=r\"$\\Delta a_0^{-}$\",\n",
        "                        label_y=r\"$\\Delta a_1^{max}$\",\n",
        "                        x_range=(0,1),\n",
        "                        xlim=(0,1),\n",
        "                        ylim=(0,1),\n",
        "                        interactive=True,\n",
        "                        tam_fig=(10,5),\n",
        "                        sliders={a0: {\"min\":0, \"max\":5, \"init\":4},\n",
        "                                 a1: {\"min\":0, \"max\":5, \"init\":2},\n",
        "                                 rmin: {\"min\":0, \"max\":1, \"init\":0.05},\n",
        "                                 sr: {\"min\":0, \"max\":1, \"init\":0.8},\n",
        "                                 n0: {\"min\":0, \"max\":0.05, \"init\":0.02},\n",
        "                                 n1: {\"min\":0, \"max\":1, \"init\":0.67},\n",
        "                                 un: {\"min\":0, \"max\":1, \"init\":1}},\n",
        "                        freeze_initial=True\n",
        "                        )"
      ]
    },
    {
      "cell_type": "code",
      "execution_count": null,
      "id": "d0711ddd",
      "metadata": {
        "id": "d0711ddd"
      },
      "outputs": [],
      "source": [
        "#Cerramos figuras\n",
        "plt.close('all')"
      ]
    },
    {
      "cell_type": "code",
      "execution_count": null,
      "id": "792bc25d",
      "metadata": {
        "id": "792bc25d"
      },
      "outputs": [],
      "source": [
        "#Genero la gráfica con las ecuaciones transformadas\n",
        "eq47tr=eq47.subs({gLR:xx}) #Defino eje de eq47\n",
        "eq49tr=eq49.subs({wLR:-xx}) #Defino eje de eq49\n",
        "fam.plot_from_eq_list(eqs=[eq10tr,eq25tr,eq45tr],\n",
        "                        x_sym=xx,y_sym=yy,\n",
        "                        colors=[\"blue\",\"purple\",\"green\"],\n",
        "                        shared_params={a0:4,a1:2,rmin:0.05,sr:0.8,un:1,n0:0.02,n1:0.67},\n",
        "                        show_legend=True,\n",
        "                        labels=[f\"${sp.latex(eq10)}$\",\n",
        "                                f\"${sp.latex(eq25)}$\",\n",
        "                                f\"${sp.latex(eq45)}$\"],\n",
        "                        vertical_eq=[sp.Eq(xx,0),eq47tr,eq49tr],\n",
        "                        vline_style=[\"-\",\"--\",\"--\"],\n",
        "                        vline_color=[\"black\",\"green\",\"red\"],\n",
        "                        horizontal_eq=[sp.Eq(yy,0),eq46tr],\n",
        "                        hline_style=[\"-\",\"--\"],\n",
        "                        hline_color=[\"black\",\"gray\"],\n",
        "                        x_range=(-0.4,0.4),\n",
        "                        xlim=(-0.4,0.4),\n",
        "                        ylim=(0,0.7),\n",
        "                        interactive=True,\n",
        "                        tam_fig=(10,5),\n",
        "                        sliders={a0: {\"min\":0, \"max\":5, \"init\":4},\n",
        "                                 a1: {\"min\":0, \"max\":5, \"init\":2},\n",
        "                                 rmin: {\"min\":0, \"max\":1, \"init\":0.05},\n",
        "                                 sr: {\"min\":0, \"max\":1, \"init\":0.8},\n",
        "                                 n0: {\"min\":0, \"max\":0.05, \"init\":0.02},\n",
        "                                 n1: {\"min\":0, \"max\":1, \"init\":0.67},\n",
        "                                 un: {\"min\":0, \"max\":1, \"init\":1}},\n",
        "                        freeze_initial=True\n",
        "                        )"
      ]
    },
    {
      "cell_type": "code",
      "execution_count": null,
      "id": "6120d9ec",
      "metadata": {
        "id": "6120d9ec"
      },
      "outputs": [],
      "source": [
        "#Cerramos figuras\n",
        "plt.close('all')"
      ]
    },
    {
      "cell_type": "markdown",
      "id": "8d11b915",
      "metadata": {
        "id": "8d11b915"
      },
      "source": [
        "## 2.5. Estado estacionario ricardiano"
      ]
    },
    {
      "cell_type": "code",
      "execution_count": null,
      "id": "9b116db7",
      "metadata": {
        "id": "9b116db7"
      },
      "outputs": [],
      "source": [
        "#Definimos términos auxiliares\n",
        "ws = sp.Symbol(r'w_s',positive=True,real=True)"
      ]
    },
    {
      "cell_type": "code",
      "execution_count": null,
      "id": "fe259db7",
      "metadata": {
        "id": "fe259db7"
      },
      "outputs": [],
      "source": [
        "#Versión simplificada de función de acumulación\n",
        "eq78=sp.Eq(g,sr*r)\n",
        "eq78"
      ]
    },
    {
      "cell_type": "code",
      "execution_count": null,
      "id": "088f1925",
      "metadata": {
        "id": "088f1925"
      },
      "outputs": [],
      "source": [
        "#g en función de w\n",
        "eq79=fam.solve_as_equalities(\n",
        "    [eq78,eq10,eq12],\n",
        "    [g,r,a1]\n",
        ")[0][0]\n",
        "eq79"
      ]
    },
    {
      "cell_type": "code",
      "execution_count": null,
      "id": "274a6796",
      "metadata": {
        "id": "274a6796"
      },
      "outputs": [],
      "source": [
        "#Nueva versión de la función de oferta de trabajo\n",
        "eq80=sp.Eq(n,n1*(w-ws)/ws)\n",
        "eq80"
      ]
    },
    {
      "cell_type": "code",
      "execution_count": null,
      "id": "a561a8eb",
      "metadata": {
        "id": "a561a8eb"
      },
      "outputs": [],
      "source": [
        "#Obtenemos punto de equilibrio g=n\n",
        "solucionRic=fam.solve_as_equalities(\n",
        "    [eq79,eq80,sp.Eq(g,n)],\n",
        "    [w,g,n]\n",
        ")[0][0:2]\n",
        "eq81,eq82=tuple(solucionRic)\n",
        "eq81,eq82"
      ]
    },
    {
      "cell_type": "code",
      "execution_count": null,
      "id": "27d5a883",
      "metadata": {
        "id": "27d5a883"
      },
      "outputs": [],
      "source": [
        "#Gráfico que compara a g y n en términos de w\n",
        "eq79tr=fam.change_quad(eq=eq79,x_old=w,y_old=g,X=xx,Y=yy,quad=\"TR\") #Indico que eq79 va en el eje superior derecho (TR)\n",
        "eq80tr=fam.change_quad(eq=eq80,x_old=w,y_old=n,X=xx,Y=yy,quad=\"TR\") #Indico que eq80 va en el eje superior derecho (TR)\n",
        "eq81tr=eq81.subs({w:xx}) #Defino eje de eq49\n",
        "eq82tr=eq82.subs({g:yy}) #Defino eje de eq47\n",
        "\n",
        "#Genero la gráfica con las ecuaciones transformadas\n",
        "fam.plot_from_eq_list(eqs=[eq79tr,eq80tr],\n",
        "                        x_sym=xx,y_sym=yy,\n",
        "                        colors=[\"purple\",\"red\"],\n",
        "                        shared_params={a0:4,k:0.5,sr:0.8,un:1,n1:0.25,ws:0.1},\n",
        "                        show_legend=True,\n",
        "                        labels=[f\"${sp.latex(eq79)}$\",\n",
        "                                f\"${sp.latex(eq80)}$\"],\n",
        "                        vertical_eq=[sp.Eq(xx,0),eq81tr],\n",
        "                        vline_style=[\"-\",\"--\"],\n",
        "                        vline_color=[\"black\",\"gray\"],\n",
        "                        horizontal_eq=[sp.Eq(yy,0),eq82tr],\n",
        "                        hline_style=[\"-\",\"--\"],\n",
        "                        hline_color=[\"black\",\"gray\"],\n",
        "                        label_x=\"w\", label_y=\"g, n\",\n",
        "                        x_range=(-0,0.3),\n",
        "                        xlim=(-0,0.3),\n",
        "                        ylim=(-0,0.5),\n",
        "                        interactive=True,\n",
        "                        tam_fig=(10,5),\n",
        "                        sliders={a0: {\"min\":0, \"max\":15, \"init\":4},\n",
        "                                 k: {\"min\":0, \"max\":2, \"init\":0.5},\n",
        "                                 sr: {\"min\":0, \"max\":1, \"init\":0.8},\n",
        "                                 n1: {\"min\":0, \"max\":1, \"init\":0.25},\n",
        "                                 un: {\"min\":0, \"max\":1, \"init\":1},\n",
        "                                 ws: {\"min\":0, \"max\":0.5, \"init\":0.1}},\n",
        "                        freeze_initial=True\n",
        "                        )"
      ]
    },
    {
      "cell_type": "code",
      "execution_count": null,
      "id": "f11d72fa",
      "metadata": {
        "id": "f11d72fa"
      },
      "outputs": [],
      "source": [
        "#Cerramos figuras\n",
        "plt.close('all')"
      ]
    }
  ],
  "metadata": {
    "kernelspec": {
      "display_name": "base",
      "language": "python",
      "name": "python3"
    },
    "language_info": {
      "codemirror_mode": {
        "name": "ipython",
        "version": 3
      },
      "file_extension": ".py",
      "mimetype": "text/x-python",
      "name": "python",
      "nbconvert_exporter": "python",
      "pygments_lexer": "ipython3",
      "version": "3.12.7"
    },
    "colab": {
      "provenance": [],
      "include_colab_link": true
    }
  },
  "nbformat": 4,
  "nbformat_minor": 5
}